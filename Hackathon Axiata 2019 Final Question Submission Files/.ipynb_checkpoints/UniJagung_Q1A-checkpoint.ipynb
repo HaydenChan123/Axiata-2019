{
 "cells": [
  {
   "cell_type": "markdown",
   "metadata": {},
   "source": [
    "## 1A"
   ]
  },
  {
   "cell_type": "markdown",
   "metadata": {},
   "source": [
    "## Import dataset"
   ]
  },
  {
   "cell_type": "code",
   "execution_count": 13,
   "metadata": {},
   "outputs": [],
   "source": [
    "import pandas as pd\n",
    "df = pd.read_csv('event_log.csv', sep='\\t')"
   ]
  },
  {
   "cell_type": "markdown",
   "metadata": {},
   "source": [
    "## Get subset for relevant grid_ids"
   ]
  },
  {
   "cell_type": "code",
   "execution_count": 5,
   "metadata": {},
   "outputs": [
    {
     "name": "stdout",
     "output_type": "stream",
     "text": [
      "            customer_id   grid_id     date_time     date_time_clean  \\\n",
      "12  l608040856396457179  171054.0  1.563522e+09 2019-07-19 07:47:00   \n",
      "14  l130298555878804814  171755.0  1.563522e+09 2019-07-19 07:48:00   \n",
      "28  6848612498816778337  171054.0  1.563523e+09 2019-07-19 07:58:00   \n",
      "38  1180346010025704896  170356.0  1.563523e+09 2019-07-19 08:00:00   \n",
      "80  k591611459331266212  171058.0  1.563524e+09 2019-07-19 08:10:00   \n",
      "\n",
      "          date  hour  minute  \n",
      "12  2019-07-19     7      47  \n",
      "14  2019-07-19     7      48  \n",
      "28  2019-07-19     7      58  \n",
      "38  2019-07-19     8       0  \n",
      "80  2019-07-19     8      10  \n",
      "(15079, 7)\n"
     ]
    }
   ],
   "source": [
    "grid_ids = [172456.0, 172457.0, 171754.0, 171755.0, 171756.0, 171052.0, 171053.0, 171054.0, 171058.0, 170356.0]\n",
    "df = df.loc[df.grid_id.isin(grid_ids)]\n",
    "\n",
    "df[\"date_time_clean\"]= pd.to_datetime(df[\"date_time\"], unit='s')\n",
    "df['date'] = [d.date() for d in df['date_time_clean']]\n",
    "df['hour'] = [d.hour for d in df['date_time_clean']]\n",
    "df['minute'] = [d.minute for d in df['date_time_clean']]\n",
    "\n",
    "print(df.head())\n",
    "print(df.shape)"
   ]
  },
  {
   "cell_type": "markdown",
   "metadata": {},
   "source": [
    "## Filter data by date"
   ]
  },
  {
   "cell_type": "code",
   "execution_count": 7,
   "metadata": {},
   "outputs": [
    {
     "name": "stdout",
     "output_type": "stream",
     "text": [
      "(15079, 7)\n"
     ]
    }
   ],
   "source": [
    "df_inrange = df[df['date_time_clean'].between(\"2019-07-19\", \"2019-08-19\")]\n",
    "print(df_inrange.shape)"
   ]
  },
  {
   "cell_type": "markdown",
   "metadata": {},
   "source": [
    "## Filter data by time"
   ]
  },
  {
   "cell_type": "code",
   "execution_count": 9,
   "metadata": {},
   "outputs": [
    {
     "name": "stdout",
     "output_type": "stream",
     "text": [
      "(15079, 7)\n",
      "(14930, 7)\n"
     ]
    }
   ],
   "source": [
    "print(df_inrange.shape)\n",
    "df_intimerange = df_inrange.loc[\n",
    "    ((df_inrange[\"hour\"] >= 7) & (df_inrange[\"hour\"] <= 14))\n",
    "]\n",
    "print(df_intimerange.shape)"
   ]
  },
  {
   "cell_type": "markdown",
   "metadata": {},
   "source": [
    "## Group data by grid_id, date and count unique customer_id"
   ]
  },
  {
   "cell_type": "code",
   "execution_count": 10,
   "metadata": {},
   "outputs": [
    {
     "name": "stdout",
     "output_type": "stream",
     "text": [
      "          counts\n",
      "grid_id         \n",
      "170356.0  134.77\n",
      "171052.0   18.74\n",
      "171053.0   23.42\n",
      "171054.0   65.00\n",
      "171058.0   31.23\n",
      "171754.0   33.84\n",
      "171755.0   22.35\n",
      "171756.0   77.74\n",
      "172456.0   34.03\n",
      "172457.0   30.35\n"
     ]
    }
   ],
   "source": [
    "groupl = df_intimerange.groupby(['grid_id', 'date', 'customer_id']).size().groupby(level=0).agg(counts='size')\n",
    "\n",
    "# average over 31 days\n",
    "groupl.counts = round(groupl.counts / 31, 2)\n",
    "\n",
    "print(groupl)"
   ]
  },
  {
   "cell_type": "markdown",
   "metadata": {},
   "source": [
    "## Save it as q1a.csv"
   ]
  },
  {
   "cell_type": "code",
   "execution_count": 11,
   "metadata": {},
   "outputs": [],
   "source": [
    "groupl.to_csv('q1a.csv', index=True)"
   ]
  }
 ],
 "metadata": {
  "kernelspec": {
   "display_name": "Python 3",
   "language": "python",
   "name": "python3"
  },
  "language_info": {
   "codemirror_mode": {
    "name": "ipython",
    "version": 3
   },
   "file_extension": ".py",
   "mimetype": "text/x-python",
   "name": "python",
   "nbconvert_exporter": "python",
   "pygments_lexer": "ipython3",
   "version": "3.7.4"
  }
 },
 "nbformat": 4,
 "nbformat_minor": 4
}
