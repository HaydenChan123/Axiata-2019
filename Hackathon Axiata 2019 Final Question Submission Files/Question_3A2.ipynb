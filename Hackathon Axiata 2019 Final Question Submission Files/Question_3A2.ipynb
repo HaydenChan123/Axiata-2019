{
 "cells": [
  {
   "cell_type": "markdown",
   "metadata": {},
   "source": [
    "## Load Dataset"
   ]
  },
  {
   "cell_type": "code",
   "execution_count": 1,
   "metadata": {},
   "outputs": [],
   "source": [
    "import pandas as pd\n",
    "import numpy as np\n",
    "pr = pd.read_csv('past_result.csv', \"\\t\")\n",
    "crm = pd.read_csv('crm.csv', \"\\t\")\n",
    "event = pd.read_csv('event_log.csv', \"\\t\")\n",
    "tran = pd.read_csv('transaction.csv', \"\\t\")\n",
    "pot = pd.read_csv('potential_users.csv', \"\\t\")\n",
    "crm = crm.sort_values([\"customer_age\", \"arpu\"])\n",
    "crm2 = crm.groupby(\"customer_id\").agg(\"last\")\n"
   ]
  },
  {
   "cell_type": "markdown",
   "metadata": {},
   "source": [
    "## Group by Customer id and Merchant Category and mean, std, median, sum of the GTV for each individual customer id"
   ]
  },
  {
   "cell_type": "code",
   "execution_count": 2,
   "metadata": {},
   "outputs": [],
   "source": [
    "tt2 = tran.groupby([\"customer_id\", \"MerchantCategory\"])[\"GTV\"].apply(lambda x: x.mean())\n",
    "tt2 = tt2.reset_index()\n",
    "tt2 = tt2.pivot(index = \"customer_id\", columns = \"MerchantCategory\", values = \"GTV\").fillna(0)\n",
    "tt2.columns = [str(j) + '_mean' for j in tt2.columns]"
   ]
  },
  {
   "cell_type": "code",
   "execution_count": 3,
   "metadata": {},
   "outputs": [],
   "source": [
    "tt3 = tran.groupby([\"customer_id\", \"MerchantCategory\"])[\"GTV\"].apply(lambda x: np.std(x))\n",
    "tt3 = tt3.reset_index()\n",
    "tt3 = tt3.pivot(index = \"customer_id\", columns = \"MerchantCategory\", values = \"GTV\").fillna(0)\n",
    "tt3.columns = [str(j) + '_std' for j in tt3.columns]"
   ]
  },
  {
   "cell_type": "code",
   "execution_count": 4,
   "metadata": {},
   "outputs": [],
   "source": [
    "tt4 = tran.groupby([\"customer_id\", \"MerchantCategory\"])[\"GTV\"].apply(lambda x: np.median(x))\n",
    "tt4 = tt4.reset_index()\n",
    "tt4 = tt4.pivot(index = \"customer_id\", columns = \"MerchantCategory\", values = \"GTV\").fillna(0)\n",
    "tt4.columns = [str(j) + '_median' for j in tt4.columns]"
   ]
  },
  {
   "cell_type": "code",
   "execution_count": 5,
   "metadata": {},
   "outputs": [],
   "source": [
    "tt5 = tran.groupby([\"customer_id\", \"MerchantCategory\"])[\"GTV\"].apply(lambda x: np.max(x))\n",
    "tt5 = tt5.reset_index()\n",
    "tt5 = tt5.pivot(index = \"customer_id\", columns = \"MerchantCategory\", values = \"GTV\").fillna(0)\n",
    "tt5.columns = [str(j) + '_max' for j in tt5.columns]"
   ]
  },
  {
   "cell_type": "code",
   "execution_count": 6,
   "metadata": {},
   "outputs": [],
   "source": [
    "tt = tran.groupby([\"customer_id\", \"MerchantCategory\"])[\"GTV\"].apply(lambda x: x.sum())\n",
    "tt = tt.reset_index()"
   ]
  },
  {
   "cell_type": "markdown",
   "metadata": {},
   "source": [
    "## Impute missing value of GTV with 0"
   ]
  },
  {
   "cell_type": "code",
   "execution_count": 7,
   "metadata": {},
   "outputs": [],
   "source": [
    "tt = tt.pivot(index = \"customer_id\", columns = \"MerchantCategory\", values = \"GTV\").fillna(0)"
   ]
  },
  {
   "cell_type": "markdown",
   "metadata": {},
   "source": [
    "## Merge potential User dataset with Customer Profile dataset by using left join"
   ]
  },
  {
   "cell_type": "code",
   "execution_count": 8,
   "metadata": {},
   "outputs": [],
   "source": [
    "traindf = pd.merge(pr, crm2, left_on = 'customer_id', right_on = \"customer_id\", how = \"left\")\n",
    "testdf = pd.merge(pot, crm2, left_on = 'customer_id', right_on = \"customer_id\", how = \"left\")\n"
   ]
  },
  {
   "cell_type": "markdown",
   "metadata": {},
   "source": [
    "## Merge traindf dataset with transaction dataset by using left join. Then, drop Customer ID column and model column"
   ]
  },
  {
   "cell_type": "code",
   "execution_count": 9,
   "metadata": {},
   "outputs": [],
   "source": [
    "traindf = pd.merge(traindf, tt5, left_on = 'customer_id', right_on = \"customer_id\", how = \"left\")\n",
    "testdf = pd.merge(testdf, tt5, left_on = 'customer_id', right_on = \"customer_id\", how = \"left\")"
   ]
  },
  {
   "cell_type": "code",
   "execution_count": 10,
   "metadata": {},
   "outputs": [],
   "source": [
    "traindf = pd.merge(traindf, tt4, left_on = 'customer_id', right_on = \"customer_id\", how = \"left\")\n",
    "testdf = pd.merge(testdf, tt4, left_on = 'customer_id', right_on = \"customer_id\", how = \"left\")"
   ]
  },
  {
   "cell_type": "code",
   "execution_count": 11,
   "metadata": {},
   "outputs": [],
   "source": [
    "traindf = pd.merge(traindf, tt3, left_on = 'customer_id', right_on = \"customer_id\", how = \"left\")\n",
    "testdf = pd.merge(testdf, tt3, left_on = 'customer_id', right_on = \"customer_id\", how = \"left\")"
   ]
  },
  {
   "cell_type": "code",
   "execution_count": 12,
   "metadata": {},
   "outputs": [],
   "source": [
    "traindf = pd.merge(traindf, tt2, left_on = 'customer_id', right_on = \"customer_id\", how = \"left\")\n",
    "testdf = pd.merge(testdf, tt2, left_on = 'customer_id', right_on = \"customer_id\", how = \"left\")"
   ]
  },
  {
   "cell_type": "code",
   "execution_count": 13,
   "metadata": {},
   "outputs": [],
   "source": [
    "traindf = pd.merge(traindf, tt, left_on = 'customer_id', right_on = \"customer_id\", how = \"left\").drop([\"customer_id\",\"model\"],axis=1)\n",
    "testdf = pd.merge(testdf, tt, left_on = 'customer_id', right_on = \"customer_id\", how = \"left\").drop([\"customer_id\",\"model\"],axis=1)"
   ]
  },
  {
   "cell_type": "markdown",
   "metadata": {},
   "source": [
    "## Impute the customer age column with mean."
   ]
  },
  {
   "cell_type": "code",
   "execution_count": 14,
   "metadata": {},
   "outputs": [],
   "source": [
    "traindf[\"customer_age\"] = traindf[\"customer_age\"].fillna(traindf[\"customer_age\"].mean())\n",
    "testdf[\"customer_age\"] = testdf[\"customer_age\"].fillna(testdf[\"customer_age\"].mean())"
   ]
  },
  {
   "cell_type": "markdown",
   "metadata": {},
   "source": [
    "## Convert the gender column to Boolean variable"
   ]
  },
  {
   "cell_type": "code",
   "execution_count": 15,
   "metadata": {},
   "outputs": [],
   "source": [
    "gender_dict = dict(male = True, female = False)"
   ]
  },
  {
   "cell_type": "code",
   "execution_count": 16,
   "metadata": {},
   "outputs": [
    {
     "data": {
      "text/html": [
       "<div>\n",
       "<style scoped>\n",
       "    .dataframe tbody tr th:only-of-type {\n",
       "        vertical-align: middle;\n",
       "    }\n",
       "\n",
       "    .dataframe tbody tr th {\n",
       "        vertical-align: top;\n",
       "    }\n",
       "\n",
       "    .dataframe thead th {\n",
       "        text-align: right;\n",
       "    }\n",
       "</style>\n",
       "<table border=\"1\" class=\"dataframe\">\n",
       "  <thead>\n",
       "    <tr style=\"text-align: right;\">\n",
       "      <th></th>\n",
       "      <th>campaign_outcome</th>\n",
       "      <th>customer_age</th>\n",
       "      <th>arpu</th>\n",
       "      <th>gender</th>\n",
       "      <th>F&amp;B_max</th>\n",
       "      <th>Household Goods and Groceries_max</th>\n",
       "      <th>Retail_max</th>\n",
       "      <th>Services_max</th>\n",
       "      <th>Transit &amp; Travel_max</th>\n",
       "      <th>F&amp;B_median</th>\n",
       "      <th>...</th>\n",
       "      <th>F&amp;B_mean</th>\n",
       "      <th>Household Goods and Groceries_mean</th>\n",
       "      <th>Retail_mean</th>\n",
       "      <th>Services_mean</th>\n",
       "      <th>Transit &amp; Travel_mean</th>\n",
       "      <th>F&amp;B</th>\n",
       "      <th>Household Goods and Groceries</th>\n",
       "      <th>Retail</th>\n",
       "      <th>Services</th>\n",
       "      <th>Transit &amp; Travel</th>\n",
       "    </tr>\n",
       "  </thead>\n",
       "  <tbody>\n",
       "    <tr>\n",
       "      <th>5971</th>\n",
       "      <td>Not Interested</td>\n",
       "      <td>28.0</td>\n",
       "      <td>118.95</td>\n",
       "      <td>female</td>\n",
       "      <td>235.35</td>\n",
       "      <td>0.00</td>\n",
       "      <td>0.00</td>\n",
       "      <td>0.00</td>\n",
       "      <td>0.00</td>\n",
       "      <td>55.16</td>\n",
       "      <td>...</td>\n",
       "      <td>74.605789</td>\n",
       "      <td>0.000000</td>\n",
       "      <td>0.000</td>\n",
       "      <td>0.00</td>\n",
       "      <td>0.000000</td>\n",
       "      <td>1417.51</td>\n",
       "      <td>0.00</td>\n",
       "      <td>0.00</td>\n",
       "      <td>0.00</td>\n",
       "      <td>0.00</td>\n",
       "    </tr>\n",
       "    <tr>\n",
       "      <th>5972</th>\n",
       "      <td>Not Interested</td>\n",
       "      <td>38.0</td>\n",
       "      <td>75.00</td>\n",
       "      <td>female</td>\n",
       "      <td>880.68</td>\n",
       "      <td>564.11</td>\n",
       "      <td>71.75</td>\n",
       "      <td>67.53</td>\n",
       "      <td>0.00</td>\n",
       "      <td>30.37</td>\n",
       "      <td>...</td>\n",
       "      <td>121.537500</td>\n",
       "      <td>86.576364</td>\n",
       "      <td>52.260</td>\n",
       "      <td>67.53</td>\n",
       "      <td>0.000000</td>\n",
       "      <td>1458.45</td>\n",
       "      <td>952.34</td>\n",
       "      <td>209.04</td>\n",
       "      <td>67.53</td>\n",
       "      <td>0.00</td>\n",
       "    </tr>\n",
       "    <tr>\n",
       "      <th>5973</th>\n",
       "      <td>Not Interested</td>\n",
       "      <td>20.0</td>\n",
       "      <td>148.78</td>\n",
       "      <td>female</td>\n",
       "      <td>149.79</td>\n",
       "      <td>88.39</td>\n",
       "      <td>139.10</td>\n",
       "      <td>159.38</td>\n",
       "      <td>51.34</td>\n",
       "      <td>40.56</td>\n",
       "      <td>...</td>\n",
       "      <td>59.533333</td>\n",
       "      <td>41.712000</td>\n",
       "      <td>100.815</td>\n",
       "      <td>159.38</td>\n",
       "      <td>32.843333</td>\n",
       "      <td>535.80</td>\n",
       "      <td>208.56</td>\n",
       "      <td>201.63</td>\n",
       "      <td>159.38</td>\n",
       "      <td>295.59</td>\n",
       "    </tr>\n",
       "    <tr>\n",
       "      <th>5974</th>\n",
       "      <td>Neuron electric scooter</td>\n",
       "      <td>24.0</td>\n",
       "      <td>80.09</td>\n",
       "      <td>male</td>\n",
       "      <td>110.74</td>\n",
       "      <td>44.02</td>\n",
       "      <td>189.52</td>\n",
       "      <td>0.00</td>\n",
       "      <td>49.44</td>\n",
       "      <td>39.63</td>\n",
       "      <td>...</td>\n",
       "      <td>41.164545</td>\n",
       "      <td>28.270000</td>\n",
       "      <td>65.304</td>\n",
       "      <td>0.00</td>\n",
       "      <td>27.605385</td>\n",
       "      <td>452.81</td>\n",
       "      <td>56.54</td>\n",
       "      <td>326.52</td>\n",
       "      <td>0.00</td>\n",
       "      <td>358.87</td>\n",
       "    </tr>\n",
       "    <tr>\n",
       "      <th>5975</th>\n",
       "      <td>Neuron electric scooter</td>\n",
       "      <td>27.0</td>\n",
       "      <td>105.75</td>\n",
       "      <td>male</td>\n",
       "      <td>118.83</td>\n",
       "      <td>48.87</td>\n",
       "      <td>15.28</td>\n",
       "      <td>0.00</td>\n",
       "      <td>47.77</td>\n",
       "      <td>47.47</td>\n",
       "      <td>...</td>\n",
       "      <td>51.939091</td>\n",
       "      <td>27.180000</td>\n",
       "      <td>15.280</td>\n",
       "      <td>0.00</td>\n",
       "      <td>30.607500</td>\n",
       "      <td>571.33</td>\n",
       "      <td>54.36</td>\n",
       "      <td>15.28</td>\n",
       "      <td>0.00</td>\n",
       "      <td>367.29</td>\n",
       "    </tr>\n",
       "  </tbody>\n",
       "</table>\n",
       "<p>5 rows × 29 columns</p>\n",
       "</div>"
      ],
      "text/plain": [
       "             campaign_outcome  customer_age    arpu  gender  F&B_max  \\\n",
       "5971           Not Interested          28.0  118.95  female   235.35   \n",
       "5972           Not Interested          38.0   75.00  female   880.68   \n",
       "5973           Not Interested          20.0  148.78  female   149.79   \n",
       "5974  Neuron electric scooter          24.0   80.09    male   110.74   \n",
       "5975  Neuron electric scooter          27.0  105.75    male   118.83   \n",
       "\n",
       "      Household Goods and Groceries_max  Retail_max  Services_max  \\\n",
       "5971                               0.00        0.00          0.00   \n",
       "5972                             564.11       71.75         67.53   \n",
       "5973                              88.39      139.10        159.38   \n",
       "5974                              44.02      189.52          0.00   \n",
       "5975                              48.87       15.28          0.00   \n",
       "\n",
       "      Transit & Travel_max  F&B_median        ...           F&B_mean  \\\n",
       "5971                  0.00       55.16        ...          74.605789   \n",
       "5972                  0.00       30.37        ...         121.537500   \n",
       "5973                 51.34       40.56        ...          59.533333   \n",
       "5974                 49.44       39.63        ...          41.164545   \n",
       "5975                 47.77       47.47        ...          51.939091   \n",
       "\n",
       "      Household Goods and Groceries_mean  Retail_mean  Services_mean  \\\n",
       "5971                            0.000000        0.000           0.00   \n",
       "5972                           86.576364       52.260          67.53   \n",
       "5973                           41.712000      100.815         159.38   \n",
       "5974                           28.270000       65.304           0.00   \n",
       "5975                           27.180000       15.280           0.00   \n",
       "\n",
       "      Transit & Travel_mean      F&B  Household Goods and Groceries  Retail  \\\n",
       "5971               0.000000  1417.51                           0.00    0.00   \n",
       "5972               0.000000  1458.45                         952.34  209.04   \n",
       "5973              32.843333   535.80                         208.56  201.63   \n",
       "5974              27.605385   452.81                          56.54  326.52   \n",
       "5975              30.607500   571.33                          54.36   15.28   \n",
       "\n",
       "      Services  Transit & Travel  \n",
       "5971      0.00              0.00  \n",
       "5972     67.53              0.00  \n",
       "5973    159.38            295.59  \n",
       "5974      0.00            358.87  \n",
       "5975      0.00            367.29  \n",
       "\n",
       "[5 rows x 29 columns]"
      ]
     },
     "execution_count": 16,
     "metadata": {},
     "output_type": "execute_result"
    }
   ],
   "source": [
    "traindf.tail()"
   ]
  },
  {
   "cell_type": "code",
   "execution_count": 17,
   "metadata": {},
   "outputs": [
    {
     "data": {
      "text/html": [
       "<div>\n",
       "<style scoped>\n",
       "    .dataframe tbody tr th:only-of-type {\n",
       "        vertical-align: middle;\n",
       "    }\n",
       "\n",
       "    .dataframe tbody tr th {\n",
       "        vertical-align: top;\n",
       "    }\n",
       "\n",
       "    .dataframe thead th {\n",
       "        text-align: right;\n",
       "    }\n",
       "</style>\n",
       "<table border=\"1\" class=\"dataframe\">\n",
       "  <thead>\n",
       "    <tr style=\"text-align: right;\">\n",
       "      <th></th>\n",
       "      <th>customer_age</th>\n",
       "      <th>arpu</th>\n",
       "      <th>gender</th>\n",
       "      <th>F&amp;B_max</th>\n",
       "      <th>Household Goods and Groceries_max</th>\n",
       "      <th>Retail_max</th>\n",
       "      <th>Services_max</th>\n",
       "      <th>Transit &amp; Travel_max</th>\n",
       "      <th>F&amp;B_median</th>\n",
       "      <th>Household Goods and Groceries_median</th>\n",
       "      <th>...</th>\n",
       "      <th>F&amp;B_mean</th>\n",
       "      <th>Household Goods and Groceries_mean</th>\n",
       "      <th>Retail_mean</th>\n",
       "      <th>Services_mean</th>\n",
       "      <th>Transit &amp; Travel_mean</th>\n",
       "      <th>F&amp;B</th>\n",
       "      <th>Household Goods and Groceries</th>\n",
       "      <th>Retail</th>\n",
       "      <th>Services</th>\n",
       "      <th>Transit &amp; Travel</th>\n",
       "    </tr>\n",
       "  </thead>\n",
       "  <tbody>\n",
       "    <tr>\n",
       "      <th>0</th>\n",
       "      <td>22.000000</td>\n",
       "      <td>71.95</td>\n",
       "      <td>male</td>\n",
       "      <td>128.35</td>\n",
       "      <td>0.00</td>\n",
       "      <td>182.59</td>\n",
       "      <td>592.59</td>\n",
       "      <td>0.00</td>\n",
       "      <td>42.160</td>\n",
       "      <td>0.00</td>\n",
       "      <td>...</td>\n",
       "      <td>52.582353</td>\n",
       "      <td>0.000000</td>\n",
       "      <td>99.79200</td>\n",
       "      <td>132.510000</td>\n",
       "      <td>0.000000</td>\n",
       "      <td>893.90</td>\n",
       "      <td>0.00</td>\n",
       "      <td>498.96</td>\n",
       "      <td>1060.08</td>\n",
       "      <td>0.00</td>\n",
       "    </tr>\n",
       "    <tr>\n",
       "      <th>1</th>\n",
       "      <td>35.117439</td>\n",
       "      <td>86.24</td>\n",
       "      <td>female</td>\n",
       "      <td>94.12</td>\n",
       "      <td>51.11</td>\n",
       "      <td>166.52</td>\n",
       "      <td>24.85</td>\n",
       "      <td>50.85</td>\n",
       "      <td>62.945</td>\n",
       "      <td>51.11</td>\n",
       "      <td>...</td>\n",
       "      <td>56.960000</td>\n",
       "      <td>51.110000</td>\n",
       "      <td>88.45000</td>\n",
       "      <td>24.850000</td>\n",
       "      <td>26.217692</td>\n",
       "      <td>227.84</td>\n",
       "      <td>51.11</td>\n",
       "      <td>353.80</td>\n",
       "      <td>24.85</td>\n",
       "      <td>340.83</td>\n",
       "    </tr>\n",
       "    <tr>\n",
       "      <th>2</th>\n",
       "      <td>49.000000</td>\n",
       "      <td>53.36</td>\n",
       "      <td>female</td>\n",
       "      <td>134.94</td>\n",
       "      <td>115.57</td>\n",
       "      <td>165.09</td>\n",
       "      <td>139.53</td>\n",
       "      <td>0.00</td>\n",
       "      <td>51.850</td>\n",
       "      <td>35.34</td>\n",
       "      <td>...</td>\n",
       "      <td>54.035833</td>\n",
       "      <td>49.882727</td>\n",
       "      <td>69.60375</td>\n",
       "      <td>64.916667</td>\n",
       "      <td>0.000000</td>\n",
       "      <td>648.43</td>\n",
       "      <td>548.71</td>\n",
       "      <td>556.83</td>\n",
       "      <td>389.50</td>\n",
       "      <td>0.00</td>\n",
       "    </tr>\n",
       "    <tr>\n",
       "      <th>3</th>\n",
       "      <td>49.000000</td>\n",
       "      <td>79.64</td>\n",
       "      <td>male</td>\n",
       "      <td>179.73</td>\n",
       "      <td>0.00</td>\n",
       "      <td>0.00</td>\n",
       "      <td>195.51</td>\n",
       "      <td>0.00</td>\n",
       "      <td>74.040</td>\n",
       "      <td>0.00</td>\n",
       "      <td>...</td>\n",
       "      <td>70.807500</td>\n",
       "      <td>0.000000</td>\n",
       "      <td>0.00000</td>\n",
       "      <td>77.696667</td>\n",
       "      <td>0.000000</td>\n",
       "      <td>1416.15</td>\n",
       "      <td>0.00</td>\n",
       "      <td>0.00</td>\n",
       "      <td>233.09</td>\n",
       "      <td>0.00</td>\n",
       "    </tr>\n",
       "    <tr>\n",
       "      <th>4</th>\n",
       "      <td>43.000000</td>\n",
       "      <td>101.65</td>\n",
       "      <td>male</td>\n",
       "      <td>56.08</td>\n",
       "      <td>38.19</td>\n",
       "      <td>182.78</td>\n",
       "      <td>0.00</td>\n",
       "      <td>90.06</td>\n",
       "      <td>40.985</td>\n",
       "      <td>38.19</td>\n",
       "      <td>...</td>\n",
       "      <td>35.003333</td>\n",
       "      <td>38.190000</td>\n",
       "      <td>131.24000</td>\n",
       "      <td>0.000000</td>\n",
       "      <td>30.722308</td>\n",
       "      <td>210.02</td>\n",
       "      <td>38.19</td>\n",
       "      <td>393.72</td>\n",
       "      <td>0.00</td>\n",
       "      <td>399.39</td>\n",
       "    </tr>\n",
       "  </tbody>\n",
       "</table>\n",
       "<p>5 rows × 28 columns</p>\n",
       "</div>"
      ],
      "text/plain": [
       "   customer_age    arpu  gender  F&B_max  Household Goods and Groceries_max  \\\n",
       "0     22.000000   71.95    male   128.35                               0.00   \n",
       "1     35.117439   86.24  female    94.12                              51.11   \n",
       "2     49.000000   53.36  female   134.94                             115.57   \n",
       "3     49.000000   79.64    male   179.73                               0.00   \n",
       "4     43.000000  101.65    male    56.08                              38.19   \n",
       "\n",
       "   Retail_max  Services_max  Transit & Travel_max  F&B_median  \\\n",
       "0      182.59        592.59                  0.00      42.160   \n",
       "1      166.52         24.85                 50.85      62.945   \n",
       "2      165.09        139.53                  0.00      51.850   \n",
       "3        0.00        195.51                  0.00      74.040   \n",
       "4      182.78          0.00                 90.06      40.985   \n",
       "\n",
       "   Household Goods and Groceries_median        ...          F&B_mean  \\\n",
       "0                                  0.00        ...         52.582353   \n",
       "1                                 51.11        ...         56.960000   \n",
       "2                                 35.34        ...         54.035833   \n",
       "3                                  0.00        ...         70.807500   \n",
       "4                                 38.19        ...         35.003333   \n",
       "\n",
       "   Household Goods and Groceries_mean  Retail_mean  Services_mean  \\\n",
       "0                            0.000000     99.79200     132.510000   \n",
       "1                           51.110000     88.45000      24.850000   \n",
       "2                           49.882727     69.60375      64.916667   \n",
       "3                            0.000000      0.00000      77.696667   \n",
       "4                           38.190000    131.24000       0.000000   \n",
       "\n",
       "   Transit & Travel_mean      F&B  Household Goods and Groceries  Retail  \\\n",
       "0               0.000000   893.90                           0.00  498.96   \n",
       "1              26.217692   227.84                          51.11  353.80   \n",
       "2               0.000000   648.43                         548.71  556.83   \n",
       "3               0.000000  1416.15                           0.00    0.00   \n",
       "4              30.722308   210.02                          38.19  393.72   \n",
       "\n",
       "   Services  Transit & Travel  \n",
       "0   1060.08              0.00  \n",
       "1     24.85            340.83  \n",
       "2    389.50              0.00  \n",
       "3    233.09              0.00  \n",
       "4      0.00            399.39  \n",
       "\n",
       "[5 rows x 28 columns]"
      ]
     },
     "execution_count": 17,
     "metadata": {},
     "output_type": "execute_result"
    }
   ],
   "source": [
    "testdf.head()"
   ]
  },
  {
   "cell_type": "markdown",
   "metadata": {},
   "source": [
    "## Replace the Boolean variable to gender variable"
   ]
  },
  {
   "cell_type": "code",
   "execution_count": 18,
   "metadata": {},
   "outputs": [],
   "source": [
    "traindf[\"gender\"] = traindf[\"gender\"].replace(gender_dict)\n",
    "testdf[\"gender\"] = testdf[\"gender\"].replace(gender_dict)\n"
   ]
  },
  {
   "cell_type": "markdown",
   "metadata": {},
   "source": [
    "## Replace the campaign outcome variable with the unique campaign outcome"
   ]
  },
  {
   "cell_type": "code",
   "execution_count": 19,
   "metadata": {},
   "outputs": [],
   "source": [
    "labels = traindf['campaign_outcome'].unique()\n",
    "label_replace = {val:index for index, val in enumerate(labels)}\n",
    "traindf['campaign_outcome'] = traindf['campaign_outcome'].replace(label_replace)"
   ]
  },
  {
   "cell_type": "code",
   "execution_count": 20,
   "metadata": {},
   "outputs": [],
   "source": [
    "X = traindf.iloc[:,1:]\n",
    "y= traindf.iloc[:,0]"
   ]
  },
  {
   "cell_type": "code",
   "execution_count": 21,
   "metadata": {},
   "outputs": [
    {
     "data": {
      "text/html": [
       "<div>\n",
       "<style scoped>\n",
       "    .dataframe tbody tr th:only-of-type {\n",
       "        vertical-align: middle;\n",
       "    }\n",
       "\n",
       "    .dataframe tbody tr th {\n",
       "        vertical-align: top;\n",
       "    }\n",
       "\n",
       "    .dataframe thead th {\n",
       "        text-align: right;\n",
       "    }\n",
       "</style>\n",
       "<table border=\"1\" class=\"dataframe\">\n",
       "  <thead>\n",
       "    <tr style=\"text-align: right;\">\n",
       "      <th></th>\n",
       "      <th>customer_age</th>\n",
       "      <th>arpu</th>\n",
       "      <th>gender</th>\n",
       "      <th>F&amp;B_max</th>\n",
       "      <th>Household Goods and Groceries_max</th>\n",
       "      <th>Retail_max</th>\n",
       "      <th>Services_max</th>\n",
       "      <th>Transit &amp; Travel_max</th>\n",
       "      <th>F&amp;B_median</th>\n",
       "      <th>Household Goods and Groceries_median</th>\n",
       "      <th>...</th>\n",
       "      <th>F&amp;B_mean</th>\n",
       "      <th>Household Goods and Groceries_mean</th>\n",
       "      <th>Retail_mean</th>\n",
       "      <th>Services_mean</th>\n",
       "      <th>Transit &amp; Travel_mean</th>\n",
       "      <th>F&amp;B</th>\n",
       "      <th>Household Goods and Groceries</th>\n",
       "      <th>Retail</th>\n",
       "      <th>Services</th>\n",
       "      <th>Transit &amp; Travel</th>\n",
       "    </tr>\n",
       "  </thead>\n",
       "  <tbody>\n",
       "    <tr>\n",
       "      <th>0</th>\n",
       "      <td>49.000000</td>\n",
       "      <td>85.13</td>\n",
       "      <td>True</td>\n",
       "      <td>1158.95</td>\n",
       "      <td>0.00</td>\n",
       "      <td>0.00</td>\n",
       "      <td>0.00</td>\n",
       "      <td>0.0</td>\n",
       "      <td>48.49</td>\n",
       "      <td>0.000</td>\n",
       "      <td>...</td>\n",
       "      <td>123.646471</td>\n",
       "      <td>0.000000</td>\n",
       "      <td>0.000000</td>\n",
       "      <td>0.000000</td>\n",
       "      <td>0.0</td>\n",
       "      <td>2101.99</td>\n",
       "      <td>0.00</td>\n",
       "      <td>0.00</td>\n",
       "      <td>0.00</td>\n",
       "      <td>0.0</td>\n",
       "    </tr>\n",
       "    <tr>\n",
       "      <th>1</th>\n",
       "      <td>28.000000</td>\n",
       "      <td>189.20</td>\n",
       "      <td>True</td>\n",
       "      <td>906.98</td>\n",
       "      <td>77.13</td>\n",
       "      <td>162.28</td>\n",
       "      <td>74.56</td>\n",
       "      <td>0.0</td>\n",
       "      <td>34.09</td>\n",
       "      <td>47.465</td>\n",
       "      <td>...</td>\n",
       "      <td>87.544118</td>\n",
       "      <td>47.280000</td>\n",
       "      <td>74.610000</td>\n",
       "      <td>74.560000</td>\n",
       "      <td>0.0</td>\n",
       "      <td>1488.25</td>\n",
       "      <td>189.12</td>\n",
       "      <td>373.05</td>\n",
       "      <td>74.56</td>\n",
       "      <td>0.0</td>\n",
       "    </tr>\n",
       "    <tr>\n",
       "      <th>2</th>\n",
       "      <td>40.000000</td>\n",
       "      <td>64.08</td>\n",
       "      <td>False</td>\n",
       "      <td>733.77</td>\n",
       "      <td>0.00</td>\n",
       "      <td>0.00</td>\n",
       "      <td>0.00</td>\n",
       "      <td>0.0</td>\n",
       "      <td>57.20</td>\n",
       "      <td>0.000</td>\n",
       "      <td>...</td>\n",
       "      <td>150.496875</td>\n",
       "      <td>0.000000</td>\n",
       "      <td>0.000000</td>\n",
       "      <td>0.000000</td>\n",
       "      <td>0.0</td>\n",
       "      <td>2407.95</td>\n",
       "      <td>0.00</td>\n",
       "      <td>0.00</td>\n",
       "      <td>0.00</td>\n",
       "      <td>0.0</td>\n",
       "    </tr>\n",
       "    <tr>\n",
       "      <th>3</th>\n",
       "      <td>30.000000</td>\n",
       "      <td>131.87</td>\n",
       "      <td>False</td>\n",
       "      <td>141.09</td>\n",
       "      <td>197.53</td>\n",
       "      <td>177.37</td>\n",
       "      <td>98.35</td>\n",
       "      <td>0.0</td>\n",
       "      <td>28.04</td>\n",
       "      <td>33.120</td>\n",
       "      <td>...</td>\n",
       "      <td>44.220000</td>\n",
       "      <td>55.174444</td>\n",
       "      <td>69.252727</td>\n",
       "      <td>48.293333</td>\n",
       "      <td>0.0</td>\n",
       "      <td>397.98</td>\n",
       "      <td>496.57</td>\n",
       "      <td>761.78</td>\n",
       "      <td>289.76</td>\n",
       "      <td>0.0</td>\n",
       "    </tr>\n",
       "    <tr>\n",
       "      <th>4</th>\n",
       "      <td>34.552137</td>\n",
       "      <td>117.33</td>\n",
       "      <td>True</td>\n",
       "      <td>161.60</td>\n",
       "      <td>31.35</td>\n",
       "      <td>998.43</td>\n",
       "      <td>0.00</td>\n",
       "      <td>0.0</td>\n",
       "      <td>31.47</td>\n",
       "      <td>29.290</td>\n",
       "      <td>...</td>\n",
       "      <td>50.258462</td>\n",
       "      <td>22.296667</td>\n",
       "      <td>312.748000</td>\n",
       "      <td>0.000000</td>\n",
       "      <td>0.0</td>\n",
       "      <td>653.36</td>\n",
       "      <td>66.89</td>\n",
       "      <td>1563.74</td>\n",
       "      <td>0.00</td>\n",
       "      <td>0.0</td>\n",
       "    </tr>\n",
       "  </tbody>\n",
       "</table>\n",
       "<p>5 rows × 28 columns</p>\n",
       "</div>"
      ],
      "text/plain": [
       "   customer_age    arpu  gender  F&B_max  Household Goods and Groceries_max  \\\n",
       "0     49.000000   85.13    True  1158.95                               0.00   \n",
       "1     28.000000  189.20    True   906.98                              77.13   \n",
       "2     40.000000   64.08   False   733.77                               0.00   \n",
       "3     30.000000  131.87   False   141.09                             197.53   \n",
       "4     34.552137  117.33    True   161.60                              31.35   \n",
       "\n",
       "   Retail_max  Services_max  Transit & Travel_max  F&B_median  \\\n",
       "0        0.00          0.00                   0.0       48.49   \n",
       "1      162.28         74.56                   0.0       34.09   \n",
       "2        0.00          0.00                   0.0       57.20   \n",
       "3      177.37         98.35                   0.0       28.04   \n",
       "4      998.43          0.00                   0.0       31.47   \n",
       "\n",
       "   Household Goods and Groceries_median        ...           F&B_mean  \\\n",
       "0                                 0.000        ...         123.646471   \n",
       "1                                47.465        ...          87.544118   \n",
       "2                                 0.000        ...         150.496875   \n",
       "3                                33.120        ...          44.220000   \n",
       "4                                29.290        ...          50.258462   \n",
       "\n",
       "   Household Goods and Groceries_mean  Retail_mean  Services_mean  \\\n",
       "0                            0.000000     0.000000       0.000000   \n",
       "1                           47.280000    74.610000      74.560000   \n",
       "2                            0.000000     0.000000       0.000000   \n",
       "3                           55.174444    69.252727      48.293333   \n",
       "4                           22.296667   312.748000       0.000000   \n",
       "\n",
       "   Transit & Travel_mean      F&B  Household Goods and Groceries   Retail  \\\n",
       "0                    0.0  2101.99                           0.00     0.00   \n",
       "1                    0.0  1488.25                         189.12   373.05   \n",
       "2                    0.0  2407.95                           0.00     0.00   \n",
       "3                    0.0   397.98                         496.57   761.78   \n",
       "4                    0.0   653.36                          66.89  1563.74   \n",
       "\n",
       "   Services  Transit & Travel  \n",
       "0      0.00               0.0  \n",
       "1     74.56               0.0  \n",
       "2      0.00               0.0  \n",
       "3    289.76               0.0  \n",
       "4      0.00               0.0  \n",
       "\n",
       "[5 rows x 28 columns]"
      ]
     },
     "execution_count": 21,
     "metadata": {},
     "output_type": "execute_result"
    }
   ],
   "source": [
    "X.head()\n"
   ]
  },
  {
   "cell_type": "markdown",
   "metadata": {},
   "source": [
    "## Run Extreme Gradient Boosting"
   ]
  },
  {
   "cell_type": "markdown",
   "metadata": {},
   "source": [
    "## Set the range of hyperparameters for XGBoost"
   ]
  },
  {
   "cell_type": "code",
   "execution_count": 22,
   "metadata": {},
   "outputs": [],
   "source": [
    "import numpy as np\n",
    "import xgboost as xgb\n",
    "\n",
    "# dtrain = xgb.DMatrix(data=X, label=y)\n",
    "# dtest = xgb.DMatrix(data=testdf)\n",
    "\n",
    "gbm_param_grid = {\n",
    "    'learning_rate': np.arange(0.05, 0.95, .025),\n",
    "    'max_depth': np.arange(2,12, 1),\n",
    "    'n_estimators': np.arange(2, 15, 1),\n",
    "    'colsample_bytree': np.arange(0.7, 1, 0.02),\n",
    "\n",
    "}"
   ]
  },
  {
   "cell_type": "code",
   "execution_count": 23,
   "metadata": {},
   "outputs": [],
   "source": [
    "bst = xgb.XGBClassifier(objective='multi:softmax',\n",
    "                       num_class= 3,\n",
    "                       n_gpus= 0)"
   ]
  },
  {
   "cell_type": "markdown",
   "metadata": {},
   "source": [
    "## Create a custom evaluation function - profit calculation from given profit matrix"
   ]
  },
  {
   "cell_type": "code",
   "execution_count": 24,
   "metadata": {},
   "outputs": [],
   "source": [
    "from sklearn.metrics import make_scorer"
   ]
  },
  {
   "cell_type": "code",
   "execution_count": 25,
   "metadata": {},
   "outputs": [],
   "source": [
    "def score_func(y, y_pred):\n",
    "    profit_matrix = np.array([[70,-40,-10],[-110,330,-120],[-10,-30,20]])\n",
    "    return np.sum([profit_matrix[(i+2)%3, (j+2)%3] for i,j in zip(y,y_pred)])"
   ]
  },
  {
   "cell_type": "code",
   "execution_count": 26,
   "metadata": {},
   "outputs": [],
   "source": [
    "sf = make_scorer(score_func)"
   ]
  },
  {
   "cell_type": "markdown",
   "metadata": {},
   "source": [
    "## Perform RandomizedSearchCV"
   ]
  },
  {
   "cell_type": "code",
   "execution_count": 27,
   "metadata": {},
   "outputs": [],
   "source": [
    "# from sklearn.model_selection import RandomizedSearchCV\n",
    "# randomized_roc_auc = RandomizedSearchCV(estimator=bst,\n",
    "#                                         param_distributions=gbm_param_grid,\n",
    "#                                         n_iter=5,scoring='accuracy', cv=50, verbose=2)\n",
    "\n",
    "from sklearn.model_selection import RandomizedSearchCV\n",
    "randomized_roc_auc = RandomizedSearchCV(estimator=bst,\n",
    "                                        param_distributions=gbm_param_grid,\n",
    "                                        n_iter=5,scoring=sf, cv=35, random_state = 123, verbose=2)"
   ]
  },
  {
   "cell_type": "code",
   "execution_count": 28,
   "metadata": {},
   "outputs": [
    {
     "name": "stdout",
     "output_type": "stream",
     "text": [
      "Fitting 35 folds for each of 5 candidates, totalling 175 fits\n",
      "[CV] n_estimators=10, max_depth=11, learning_rate=0.3500000000000001, colsample_bytree=0.76 \n"
     ]
    },
    {
     "name": "stderr",
     "output_type": "stream",
     "text": [
      "[Parallel(n_jobs=1)]: Using backend SequentialBackend with 1 concurrent workers.\n"
     ]
    },
    {
     "name": "stdout",
     "output_type": "stream",
     "text": [
      "[CV]  n_estimators=10, max_depth=11, learning_rate=0.3500000000000001, colsample_bytree=0.76, total=   1.9s\n",
      "[CV] n_estimators=10, max_depth=11, learning_rate=0.3500000000000001, colsample_bytree=0.76 \n"
     ]
    },
    {
     "name": "stderr",
     "output_type": "stream",
     "text": [
      "[Parallel(n_jobs=1)]: Done   1 out of   1 | elapsed:    2.0s remaining:    0.0s\n"
     ]
    },
    {
     "name": "stdout",
     "output_type": "stream",
     "text": [
      "[CV]  n_estimators=10, max_depth=11, learning_rate=0.3500000000000001, colsample_bytree=0.76, total=   1.3s\n",
      "[CV] n_estimators=10, max_depth=11, learning_rate=0.3500000000000001, colsample_bytree=0.76 \n",
      "[CV]  n_estimators=10, max_depth=11, learning_rate=0.3500000000000001, colsample_bytree=0.76, total=   1.5s\n",
      "[CV] n_estimators=10, max_depth=11, learning_rate=0.3500000000000001, colsample_bytree=0.76 \n",
      "[CV]  n_estimators=10, max_depth=11, learning_rate=0.3500000000000001, colsample_bytree=0.76, total=   1.4s\n",
      "[CV] n_estimators=10, max_depth=11, learning_rate=0.3500000000000001, colsample_bytree=0.76 \n",
      "[CV]  n_estimators=10, max_depth=11, learning_rate=0.3500000000000001, colsample_bytree=0.76, total=   1.3s\n",
      "[CV] n_estimators=10, max_depth=11, learning_rate=0.3500000000000001, colsample_bytree=0.76 \n",
      "[CV]  n_estimators=10, max_depth=11, learning_rate=0.3500000000000001, colsample_bytree=0.76, total=   1.2s\n",
      "[CV] n_estimators=10, max_depth=11, learning_rate=0.3500000000000001, colsample_bytree=0.76 \n",
      "[CV]  n_estimators=10, max_depth=11, learning_rate=0.3500000000000001, colsample_bytree=0.76, total=   1.2s\n",
      "[CV] n_estimators=10, max_depth=11, learning_rate=0.3500000000000001, colsample_bytree=0.76 \n",
      "[CV]  n_estimators=10, max_depth=11, learning_rate=0.3500000000000001, colsample_bytree=0.76, total=   1.2s\n",
      "[CV] n_estimators=10, max_depth=11, learning_rate=0.3500000000000001, colsample_bytree=0.76 \n",
      "[CV]  n_estimators=10, max_depth=11, learning_rate=0.3500000000000001, colsample_bytree=0.76, total=   1.3s\n",
      "[CV] n_estimators=10, max_depth=11, learning_rate=0.3500000000000001, colsample_bytree=0.76 \n",
      "[CV]  n_estimators=10, max_depth=11, learning_rate=0.3500000000000001, colsample_bytree=0.76, total=   1.2s\n",
      "[CV] n_estimators=10, max_depth=11, learning_rate=0.3500000000000001, colsample_bytree=0.76 \n",
      "[CV]  n_estimators=10, max_depth=11, learning_rate=0.3500000000000001, colsample_bytree=0.76, total=   1.3s\n",
      "[CV] n_estimators=10, max_depth=11, learning_rate=0.3500000000000001, colsample_bytree=0.76 \n",
      "[CV]  n_estimators=10, max_depth=11, learning_rate=0.3500000000000001, colsample_bytree=0.76, total=   1.3s\n",
      "[CV] n_estimators=10, max_depth=11, learning_rate=0.3500000000000001, colsample_bytree=0.76 \n",
      "[CV]  n_estimators=10, max_depth=11, learning_rate=0.3500000000000001, colsample_bytree=0.76, total=   1.5s\n",
      "[CV] n_estimators=10, max_depth=11, learning_rate=0.3500000000000001, colsample_bytree=0.76 \n",
      "[CV]  n_estimators=10, max_depth=11, learning_rate=0.3500000000000001, colsample_bytree=0.76, total=   1.7s\n",
      "[CV] n_estimators=10, max_depth=11, learning_rate=0.3500000000000001, colsample_bytree=0.76 \n",
      "[CV]  n_estimators=10, max_depth=11, learning_rate=0.3500000000000001, colsample_bytree=0.76, total=   1.4s\n",
      "[CV] n_estimators=10, max_depth=11, learning_rate=0.3500000000000001, colsample_bytree=0.76 \n",
      "[CV]  n_estimators=10, max_depth=11, learning_rate=0.3500000000000001, colsample_bytree=0.76, total=   1.3s\n",
      "[CV] n_estimators=10, max_depth=11, learning_rate=0.3500000000000001, colsample_bytree=0.76 \n",
      "[CV]  n_estimators=10, max_depth=11, learning_rate=0.3500000000000001, colsample_bytree=0.76, total=   1.3s\n",
      "[CV] n_estimators=10, max_depth=11, learning_rate=0.3500000000000001, colsample_bytree=0.76 \n",
      "[CV]  n_estimators=10, max_depth=11, learning_rate=0.3500000000000001, colsample_bytree=0.76, total=   1.4s\n",
      "[CV] n_estimators=10, max_depth=11, learning_rate=0.3500000000000001, colsample_bytree=0.76 \n",
      "[CV]  n_estimators=10, max_depth=11, learning_rate=0.3500000000000001, colsample_bytree=0.76, total=   1.3s\n",
      "[CV] n_estimators=10, max_depth=11, learning_rate=0.3500000000000001, colsample_bytree=0.76 \n",
      "[CV]  n_estimators=10, max_depth=11, learning_rate=0.3500000000000001, colsample_bytree=0.76, total=   1.4s\n",
      "[CV] n_estimators=10, max_depth=11, learning_rate=0.3500000000000001, colsample_bytree=0.76 \n",
      "[CV]  n_estimators=10, max_depth=11, learning_rate=0.3500000000000001, colsample_bytree=0.76, total=   1.5s\n",
      "[CV] n_estimators=10, max_depth=11, learning_rate=0.3500000000000001, colsample_bytree=0.76 \n",
      "[CV]  n_estimators=10, max_depth=11, learning_rate=0.3500000000000001, colsample_bytree=0.76, total=   1.4s\n",
      "[CV] n_estimators=10, max_depth=11, learning_rate=0.3500000000000001, colsample_bytree=0.76 \n",
      "[CV]  n_estimators=10, max_depth=11, learning_rate=0.3500000000000001, colsample_bytree=0.76, total=   1.4s\n",
      "[CV] n_estimators=10, max_depth=11, learning_rate=0.3500000000000001, colsample_bytree=0.76 \n",
      "[CV]  n_estimators=10, max_depth=11, learning_rate=0.3500000000000001, colsample_bytree=0.76, total=   1.6s\n",
      "[CV] n_estimators=10, max_depth=11, learning_rate=0.3500000000000001, colsample_bytree=0.76 \n",
      "[CV]  n_estimators=10, max_depth=11, learning_rate=0.3500000000000001, colsample_bytree=0.76, total=   1.3s\n",
      "[CV] n_estimators=10, max_depth=11, learning_rate=0.3500000000000001, colsample_bytree=0.76 \n",
      "[CV]  n_estimators=10, max_depth=11, learning_rate=0.3500000000000001, colsample_bytree=0.76, total=   1.4s\n",
      "[CV] n_estimators=10, max_depth=11, learning_rate=0.3500000000000001, colsample_bytree=0.76 \n",
      "[CV]  n_estimators=10, max_depth=11, learning_rate=0.3500000000000001, colsample_bytree=0.76, total=   1.3s\n",
      "[CV] n_estimators=10, max_depth=11, learning_rate=0.3500000000000001, colsample_bytree=0.76 \n",
      "[CV]  n_estimators=10, max_depth=11, learning_rate=0.3500000000000001, colsample_bytree=0.76, total=   1.2s\n",
      "[CV] n_estimators=10, max_depth=11, learning_rate=0.3500000000000001, colsample_bytree=0.76 \n",
      "[CV]  n_estimators=10, max_depth=11, learning_rate=0.3500000000000001, colsample_bytree=0.76, total=   1.3s\n",
      "[CV] n_estimators=10, max_depth=11, learning_rate=0.3500000000000001, colsample_bytree=0.76 \n",
      "[CV]  n_estimators=10, max_depth=11, learning_rate=0.3500000000000001, colsample_bytree=0.76, total=   1.2s\n",
      "[CV] n_estimators=10, max_depth=11, learning_rate=0.3500000000000001, colsample_bytree=0.76 \n",
      "[CV]  n_estimators=10, max_depth=11, learning_rate=0.3500000000000001, colsample_bytree=0.76, total=   1.3s\n",
      "[CV] n_estimators=10, max_depth=11, learning_rate=0.3500000000000001, colsample_bytree=0.76 \n",
      "[CV]  n_estimators=10, max_depth=11, learning_rate=0.3500000000000001, colsample_bytree=0.76, total=   1.4s\n",
      "[CV] n_estimators=10, max_depth=11, learning_rate=0.3500000000000001, colsample_bytree=0.76 \n",
      "[CV]  n_estimators=10, max_depth=11, learning_rate=0.3500000000000001, colsample_bytree=0.76, total=   1.3s\n",
      "[CV] n_estimators=10, max_depth=11, learning_rate=0.3500000000000001, colsample_bytree=0.76 \n",
      "[CV]  n_estimators=10, max_depth=11, learning_rate=0.3500000000000001, colsample_bytree=0.76, total=   1.5s\n",
      "[CV] n_estimators=10, max_depth=11, learning_rate=0.3500000000000001, colsample_bytree=0.76 \n",
      "[CV]  n_estimators=10, max_depth=11, learning_rate=0.3500000000000001, colsample_bytree=0.76, total=   1.6s\n",
      "[CV] n_estimators=4, max_depth=8, learning_rate=0.9250000000000004, colsample_bytree=0.8 \n",
      "[CV]  n_estimators=4, max_depth=8, learning_rate=0.9250000000000004, colsample_bytree=0.8, total=   0.4s\n",
      "[CV] n_estimators=4, max_depth=8, learning_rate=0.9250000000000004, colsample_bytree=0.8 \n",
      "[CV]  n_estimators=4, max_depth=8, learning_rate=0.9250000000000004, colsample_bytree=0.8, total=   0.4s\n",
      "[CV] n_estimators=4, max_depth=8, learning_rate=0.9250000000000004, colsample_bytree=0.8 \n",
      "[CV]  n_estimators=4, max_depth=8, learning_rate=0.9250000000000004, colsample_bytree=0.8, total=   0.5s\n",
      "[CV] n_estimators=4, max_depth=8, learning_rate=0.9250000000000004, colsample_bytree=0.8 \n",
      "[CV]  n_estimators=4, max_depth=8, learning_rate=0.9250000000000004, colsample_bytree=0.8, total=   0.4s\n",
      "[CV] n_estimators=4, max_depth=8, learning_rate=0.9250000000000004, colsample_bytree=0.8 \n",
      "[CV]  n_estimators=4, max_depth=8, learning_rate=0.9250000000000004, colsample_bytree=0.8, total=   0.4s\n",
      "[CV] n_estimators=4, max_depth=8, learning_rate=0.9250000000000004, colsample_bytree=0.8 \n",
      "[CV]  n_estimators=4, max_depth=8, learning_rate=0.9250000000000004, colsample_bytree=0.8, total=   0.4s\n",
      "[CV] n_estimators=4, max_depth=8, learning_rate=0.9250000000000004, colsample_bytree=0.8 \n",
      "[CV]  n_estimators=4, max_depth=8, learning_rate=0.9250000000000004, colsample_bytree=0.8, total=   0.4s\n",
      "[CV] n_estimators=4, max_depth=8, learning_rate=0.9250000000000004, colsample_bytree=0.8 \n"
     ]
    },
    {
     "name": "stdout",
     "output_type": "stream",
     "text": [
      "[CV]  n_estimators=4, max_depth=8, learning_rate=0.9250000000000004, colsample_bytree=0.8, total=   0.4s\n",
      "[CV] n_estimators=4, max_depth=8, learning_rate=0.9250000000000004, colsample_bytree=0.8 \n",
      "[CV]  n_estimators=4, max_depth=8, learning_rate=0.9250000000000004, colsample_bytree=0.8, total=   0.4s\n",
      "[CV] n_estimators=4, max_depth=8, learning_rate=0.9250000000000004, colsample_bytree=0.8 \n",
      "[CV]  n_estimators=4, max_depth=8, learning_rate=0.9250000000000004, colsample_bytree=0.8, total=   0.4s\n",
      "[CV] n_estimators=4, max_depth=8, learning_rate=0.9250000000000004, colsample_bytree=0.8 \n",
      "[CV]  n_estimators=4, max_depth=8, learning_rate=0.9250000000000004, colsample_bytree=0.8, total=   0.4s\n",
      "[CV] n_estimators=4, max_depth=8, learning_rate=0.9250000000000004, colsample_bytree=0.8 \n",
      "[CV]  n_estimators=4, max_depth=8, learning_rate=0.9250000000000004, colsample_bytree=0.8, total=   0.4s\n",
      "[CV] n_estimators=4, max_depth=8, learning_rate=0.9250000000000004, colsample_bytree=0.8 \n",
      "[CV]  n_estimators=4, max_depth=8, learning_rate=0.9250000000000004, colsample_bytree=0.8, total=   0.4s\n",
      "[CV] n_estimators=4, max_depth=8, learning_rate=0.9250000000000004, colsample_bytree=0.8 \n",
      "[CV]  n_estimators=4, max_depth=8, learning_rate=0.9250000000000004, colsample_bytree=0.8, total=   0.4s\n",
      "[CV] n_estimators=4, max_depth=8, learning_rate=0.9250000000000004, colsample_bytree=0.8 \n",
      "[CV]  n_estimators=4, max_depth=8, learning_rate=0.9250000000000004, colsample_bytree=0.8, total=   0.4s\n",
      "[CV] n_estimators=4, max_depth=8, learning_rate=0.9250000000000004, colsample_bytree=0.8 \n",
      "[CV]  n_estimators=4, max_depth=8, learning_rate=0.9250000000000004, colsample_bytree=0.8, total=   0.4s\n",
      "[CV] n_estimators=4, max_depth=8, learning_rate=0.9250000000000004, colsample_bytree=0.8 \n",
      "[CV]  n_estimators=4, max_depth=8, learning_rate=0.9250000000000004, colsample_bytree=0.8, total=   0.4s\n",
      "[CV] n_estimators=4, max_depth=8, learning_rate=0.9250000000000004, colsample_bytree=0.8 \n",
      "[CV]  n_estimators=4, max_depth=8, learning_rate=0.9250000000000004, colsample_bytree=0.8, total=   0.4s\n",
      "[CV] n_estimators=4, max_depth=8, learning_rate=0.9250000000000004, colsample_bytree=0.8 \n",
      "[CV]  n_estimators=4, max_depth=8, learning_rate=0.9250000000000004, colsample_bytree=0.8, total=   0.3s\n",
      "[CV] n_estimators=4, max_depth=8, learning_rate=0.9250000000000004, colsample_bytree=0.8 \n",
      "[CV]  n_estimators=4, max_depth=8, learning_rate=0.9250000000000004, colsample_bytree=0.8, total=   0.4s\n",
      "[CV] n_estimators=4, max_depth=8, learning_rate=0.9250000000000004, colsample_bytree=0.8 \n",
      "[CV]  n_estimators=4, max_depth=8, learning_rate=0.9250000000000004, colsample_bytree=0.8, total=   0.4s\n",
      "[CV] n_estimators=4, max_depth=8, learning_rate=0.9250000000000004, colsample_bytree=0.8 \n",
      "[CV]  n_estimators=4, max_depth=8, learning_rate=0.9250000000000004, colsample_bytree=0.8, total=   0.3s\n",
      "[CV] n_estimators=4, max_depth=8, learning_rate=0.9250000000000004, colsample_bytree=0.8 \n",
      "[CV]  n_estimators=4, max_depth=8, learning_rate=0.9250000000000004, colsample_bytree=0.8, total=   0.4s\n",
      "[CV] n_estimators=4, max_depth=8, learning_rate=0.9250000000000004, colsample_bytree=0.8 \n",
      "[CV]  n_estimators=4, max_depth=8, learning_rate=0.9250000000000004, colsample_bytree=0.8, total=   0.4s\n",
      "[CV] n_estimators=4, max_depth=8, learning_rate=0.9250000000000004, colsample_bytree=0.8 \n",
      "[CV]  n_estimators=4, max_depth=8, learning_rate=0.9250000000000004, colsample_bytree=0.8, total=   0.5s\n",
      "[CV] n_estimators=4, max_depth=8, learning_rate=0.9250000000000004, colsample_bytree=0.8 \n",
      "[CV]  n_estimators=4, max_depth=8, learning_rate=0.9250000000000004, colsample_bytree=0.8, total=   0.5s\n",
      "[CV] n_estimators=4, max_depth=8, learning_rate=0.9250000000000004, colsample_bytree=0.8 \n",
      "[CV]  n_estimators=4, max_depth=8, learning_rate=0.9250000000000004, colsample_bytree=0.8, total=   0.6s\n",
      "[CV] n_estimators=4, max_depth=8, learning_rate=0.9250000000000004, colsample_bytree=0.8 \n",
      "[CV]  n_estimators=4, max_depth=8, learning_rate=0.9250000000000004, colsample_bytree=0.8, total=   0.4s\n",
      "[CV] n_estimators=4, max_depth=8, learning_rate=0.9250000000000004, colsample_bytree=0.8 \n",
      "[CV]  n_estimators=4, max_depth=8, learning_rate=0.9250000000000004, colsample_bytree=0.8, total=   0.4s\n",
      "[CV] n_estimators=4, max_depth=8, learning_rate=0.9250000000000004, colsample_bytree=0.8 \n",
      "[CV]  n_estimators=4, max_depth=8, learning_rate=0.9250000000000004, colsample_bytree=0.8, total=   0.4s\n",
      "[CV] n_estimators=4, max_depth=8, learning_rate=0.9250000000000004, colsample_bytree=0.8 \n",
      "[CV]  n_estimators=4, max_depth=8, learning_rate=0.9250000000000004, colsample_bytree=0.8, total=   0.4s\n",
      "[CV] n_estimators=4, max_depth=8, learning_rate=0.9250000000000004, colsample_bytree=0.8 \n",
      "[CV]  n_estimators=4, max_depth=8, learning_rate=0.9250000000000004, colsample_bytree=0.8, total=   0.4s\n",
      "[CV] n_estimators=4, max_depth=8, learning_rate=0.9250000000000004, colsample_bytree=0.8 \n",
      "[CV]  n_estimators=4, max_depth=8, learning_rate=0.9250000000000004, colsample_bytree=0.8, total=   0.4s\n",
      "[CV] n_estimators=4, max_depth=8, learning_rate=0.9250000000000004, colsample_bytree=0.8 \n",
      "[CV]  n_estimators=4, max_depth=8, learning_rate=0.9250000000000004, colsample_bytree=0.8, total=   0.4s\n",
      "[CV] n_estimators=4, max_depth=8, learning_rate=0.9250000000000004, colsample_bytree=0.8 \n",
      "[CV]  n_estimators=4, max_depth=8, learning_rate=0.9250000000000004, colsample_bytree=0.8, total=   0.4s\n",
      "[CV] n_estimators=13, max_depth=5, learning_rate=0.7500000000000002, colsample_bytree=0.76 \n",
      "[CV]  n_estimators=13, max_depth=5, learning_rate=0.7500000000000002, colsample_bytree=0.76, total=   0.8s\n",
      "[CV] n_estimators=13, max_depth=5, learning_rate=0.7500000000000002, colsample_bytree=0.76 \n",
      "[CV]  n_estimators=13, max_depth=5, learning_rate=0.7500000000000002, colsample_bytree=0.76, total=   0.9s\n",
      "[CV] n_estimators=13, max_depth=5, learning_rate=0.7500000000000002, colsample_bytree=0.76 \n",
      "[CV]  n_estimators=13, max_depth=5, learning_rate=0.7500000000000002, colsample_bytree=0.76, total=   0.8s\n",
      "[CV] n_estimators=13, max_depth=5, learning_rate=0.7500000000000002, colsample_bytree=0.76 \n",
      "[CV]  n_estimators=13, max_depth=5, learning_rate=0.7500000000000002, colsample_bytree=0.76, total=   0.9s\n",
      "[CV] n_estimators=13, max_depth=5, learning_rate=0.7500000000000002, colsample_bytree=0.76 \n",
      "[CV]  n_estimators=13, max_depth=5, learning_rate=0.7500000000000002, colsample_bytree=0.76, total=   0.9s\n",
      "[CV] n_estimators=13, max_depth=5, learning_rate=0.7500000000000002, colsample_bytree=0.76 \n",
      "[CV]  n_estimators=13, max_depth=5, learning_rate=0.7500000000000002, colsample_bytree=0.76, total=   0.8s\n",
      "[CV] n_estimators=13, max_depth=5, learning_rate=0.7500000000000002, colsample_bytree=0.76 \n",
      "[CV]  n_estimators=13, max_depth=5, learning_rate=0.7500000000000002, colsample_bytree=0.76, total=   0.8s\n",
      "[CV] n_estimators=13, max_depth=5, learning_rate=0.7500000000000002, colsample_bytree=0.76 \n",
      "[CV]  n_estimators=13, max_depth=5, learning_rate=0.7500000000000002, colsample_bytree=0.76, total=   0.8s\n",
      "[CV] n_estimators=13, max_depth=5, learning_rate=0.7500000000000002, colsample_bytree=0.76 \n",
      "[CV]  n_estimators=13, max_depth=5, learning_rate=0.7500000000000002, colsample_bytree=0.76, total=   0.8s\n",
      "[CV] n_estimators=13, max_depth=5, learning_rate=0.7500000000000002, colsample_bytree=0.76 \n",
      "[CV]  n_estimators=13, max_depth=5, learning_rate=0.7500000000000002, colsample_bytree=0.76, total=   0.8s\n",
      "[CV] n_estimators=13, max_depth=5, learning_rate=0.7500000000000002, colsample_bytree=0.76 \n",
      "[CV]  n_estimators=13, max_depth=5, learning_rate=0.7500000000000002, colsample_bytree=0.76, total=   1.1s\n",
      "[CV] n_estimators=13, max_depth=5, learning_rate=0.7500000000000002, colsample_bytree=0.76 \n",
      "[CV]  n_estimators=13, max_depth=5, learning_rate=0.7500000000000002, colsample_bytree=0.76, total=   1.0s\n",
      "[CV] n_estimators=13, max_depth=5, learning_rate=0.7500000000000002, colsample_bytree=0.76 \n",
      "[CV]  n_estimators=13, max_depth=5, learning_rate=0.7500000000000002, colsample_bytree=0.76, total=   0.8s\n",
      "[CV] n_estimators=13, max_depth=5, learning_rate=0.7500000000000002, colsample_bytree=0.76 \n",
      "[CV]  n_estimators=13, max_depth=5, learning_rate=0.7500000000000002, colsample_bytree=0.76, total=   0.8s\n",
      "[CV] n_estimators=13, max_depth=5, learning_rate=0.7500000000000002, colsample_bytree=0.76 \n"
     ]
    },
    {
     "name": "stdout",
     "output_type": "stream",
     "text": [
      "[CV]  n_estimators=13, max_depth=5, learning_rate=0.7500000000000002, colsample_bytree=0.76, total=   0.8s\n",
      "[CV] n_estimators=13, max_depth=5, learning_rate=0.7500000000000002, colsample_bytree=0.76 \n",
      "[CV]  n_estimators=13, max_depth=5, learning_rate=0.7500000000000002, colsample_bytree=0.76, total=   0.8s\n",
      "[CV] n_estimators=13, max_depth=5, learning_rate=0.7500000000000002, colsample_bytree=0.76 \n",
      "[CV]  n_estimators=13, max_depth=5, learning_rate=0.7500000000000002, colsample_bytree=0.76, total=   0.8s\n",
      "[CV] n_estimators=13, max_depth=5, learning_rate=0.7500000000000002, colsample_bytree=0.76 \n",
      "[CV]  n_estimators=13, max_depth=5, learning_rate=0.7500000000000002, colsample_bytree=0.76, total=   0.8s\n",
      "[CV] n_estimators=13, max_depth=5, learning_rate=0.7500000000000002, colsample_bytree=0.76 \n",
      "[CV]  n_estimators=13, max_depth=5, learning_rate=0.7500000000000002, colsample_bytree=0.76, total=   0.8s\n",
      "[CV] n_estimators=13, max_depth=5, learning_rate=0.7500000000000002, colsample_bytree=0.76 \n",
      "[CV]  n_estimators=13, max_depth=5, learning_rate=0.7500000000000002, colsample_bytree=0.76, total=   0.8s\n",
      "[CV] n_estimators=13, max_depth=5, learning_rate=0.7500000000000002, colsample_bytree=0.76 \n",
      "[CV]  n_estimators=13, max_depth=5, learning_rate=0.7500000000000002, colsample_bytree=0.76, total=   0.9s\n",
      "[CV] n_estimators=13, max_depth=5, learning_rate=0.7500000000000002, colsample_bytree=0.76 \n",
      "[CV]  n_estimators=13, max_depth=5, learning_rate=0.7500000000000002, colsample_bytree=0.76, total=   0.9s\n",
      "[CV] n_estimators=13, max_depth=5, learning_rate=0.7500000000000002, colsample_bytree=0.76 \n",
      "[CV]  n_estimators=13, max_depth=5, learning_rate=0.7500000000000002, colsample_bytree=0.76, total=   0.8s\n",
      "[CV] n_estimators=13, max_depth=5, learning_rate=0.7500000000000002, colsample_bytree=0.76 \n",
      "[CV]  n_estimators=13, max_depth=5, learning_rate=0.7500000000000002, colsample_bytree=0.76, total=   0.8s\n",
      "[CV] n_estimators=13, max_depth=5, learning_rate=0.7500000000000002, colsample_bytree=0.76 \n",
      "[CV]  n_estimators=13, max_depth=5, learning_rate=0.7500000000000002, colsample_bytree=0.76, total=   0.8s\n",
      "[CV] n_estimators=13, max_depth=5, learning_rate=0.7500000000000002, colsample_bytree=0.76 \n",
      "[CV]  n_estimators=13, max_depth=5, learning_rate=0.7500000000000002, colsample_bytree=0.76, total=   0.9s\n",
      "[CV] n_estimators=13, max_depth=5, learning_rate=0.7500000000000002, colsample_bytree=0.76 \n",
      "[CV]  n_estimators=13, max_depth=5, learning_rate=0.7500000000000002, colsample_bytree=0.76, total=   1.0s\n",
      "[CV] n_estimators=13, max_depth=5, learning_rate=0.7500000000000002, colsample_bytree=0.76 \n",
      "[CV]  n_estimators=13, max_depth=5, learning_rate=0.7500000000000002, colsample_bytree=0.76, total=   0.9s\n",
      "[CV] n_estimators=13, max_depth=5, learning_rate=0.7500000000000002, colsample_bytree=0.76 \n",
      "[CV]  n_estimators=13, max_depth=5, learning_rate=0.7500000000000002, colsample_bytree=0.76, total=   0.8s\n",
      "[CV] n_estimators=13, max_depth=5, learning_rate=0.7500000000000002, colsample_bytree=0.76 \n",
      "[CV]  n_estimators=13, max_depth=5, learning_rate=0.7500000000000002, colsample_bytree=0.76, total=   1.0s\n",
      "[CV] n_estimators=13, max_depth=5, learning_rate=0.7500000000000002, colsample_bytree=0.76 \n",
      "[CV]  n_estimators=13, max_depth=5, learning_rate=0.7500000000000002, colsample_bytree=0.76, total=   0.9s\n",
      "[CV] n_estimators=13, max_depth=5, learning_rate=0.7500000000000002, colsample_bytree=0.76 \n",
      "[CV]  n_estimators=13, max_depth=5, learning_rate=0.7500000000000002, colsample_bytree=0.76, total=   0.9s\n",
      "[CV] n_estimators=13, max_depth=5, learning_rate=0.7500000000000002, colsample_bytree=0.76 \n",
      "[CV]  n_estimators=13, max_depth=5, learning_rate=0.7500000000000002, colsample_bytree=0.76, total=   0.9s\n",
      "[CV] n_estimators=13, max_depth=5, learning_rate=0.7500000000000002, colsample_bytree=0.76 \n",
      "[CV]  n_estimators=13, max_depth=5, learning_rate=0.7500000000000002, colsample_bytree=0.76, total=   0.8s\n",
      "[CV] n_estimators=13, max_depth=5, learning_rate=0.7500000000000002, colsample_bytree=0.76 \n",
      "[CV]  n_estimators=13, max_depth=5, learning_rate=0.7500000000000002, colsample_bytree=0.76, total=   0.8s\n",
      "[CV] n_estimators=7, max_depth=5, learning_rate=0.15000000000000002, colsample_bytree=0.9600000000000002 \n",
      "[CV]  n_estimators=7, max_depth=5, learning_rate=0.15000000000000002, colsample_bytree=0.9600000000000002, total=   0.5s\n",
      "[CV] n_estimators=7, max_depth=5, learning_rate=0.15000000000000002, colsample_bytree=0.9600000000000002 \n",
      "[CV]  n_estimators=7, max_depth=5, learning_rate=0.15000000000000002, colsample_bytree=0.9600000000000002, total=   0.5s\n",
      "[CV] n_estimators=7, max_depth=5, learning_rate=0.15000000000000002, colsample_bytree=0.9600000000000002 \n",
      "[CV]  n_estimators=7, max_depth=5, learning_rate=0.15000000000000002, colsample_bytree=0.9600000000000002, total=   0.5s\n",
      "[CV] n_estimators=7, max_depth=5, learning_rate=0.15000000000000002, colsample_bytree=0.9600000000000002 \n",
      "[CV]  n_estimators=7, max_depth=5, learning_rate=0.15000000000000002, colsample_bytree=0.9600000000000002, total=   0.5s\n",
      "[CV] n_estimators=7, max_depth=5, learning_rate=0.15000000000000002, colsample_bytree=0.9600000000000002 \n",
      "[CV]  n_estimators=7, max_depth=5, learning_rate=0.15000000000000002, colsample_bytree=0.9600000000000002, total=   0.5s\n",
      "[CV] n_estimators=7, max_depth=5, learning_rate=0.15000000000000002, colsample_bytree=0.9600000000000002 \n",
      "[CV]  n_estimators=7, max_depth=5, learning_rate=0.15000000000000002, colsample_bytree=0.9600000000000002, total=   0.5s\n",
      "[CV] n_estimators=7, max_depth=5, learning_rate=0.15000000000000002, colsample_bytree=0.9600000000000002 \n",
      "[CV]  n_estimators=7, max_depth=5, learning_rate=0.15000000000000002, colsample_bytree=0.9600000000000002, total=   0.5s\n",
      "[CV] n_estimators=7, max_depth=5, learning_rate=0.15000000000000002, colsample_bytree=0.9600000000000002 \n",
      "[CV]  n_estimators=7, max_depth=5, learning_rate=0.15000000000000002, colsample_bytree=0.9600000000000002, total=   0.5s\n",
      "[CV] n_estimators=7, max_depth=5, learning_rate=0.15000000000000002, colsample_bytree=0.9600000000000002 \n",
      "[CV]  n_estimators=7, max_depth=5, learning_rate=0.15000000000000002, colsample_bytree=0.9600000000000002, total=   0.7s\n",
      "[CV] n_estimators=7, max_depth=5, learning_rate=0.15000000000000002, colsample_bytree=0.9600000000000002 \n",
      "[CV]  n_estimators=7, max_depth=5, learning_rate=0.15000000000000002, colsample_bytree=0.9600000000000002, total=   0.9s\n",
      "[CV] n_estimators=7, max_depth=5, learning_rate=0.15000000000000002, colsample_bytree=0.9600000000000002 \n",
      "[CV]  n_estimators=7, max_depth=5, learning_rate=0.15000000000000002, colsample_bytree=0.9600000000000002, total=   0.8s\n",
      "[CV] n_estimators=7, max_depth=5, learning_rate=0.15000000000000002, colsample_bytree=0.9600000000000002 \n",
      "[CV]  n_estimators=7, max_depth=5, learning_rate=0.15000000000000002, colsample_bytree=0.9600000000000002, total=   0.6s\n",
      "[CV] n_estimators=7, max_depth=5, learning_rate=0.15000000000000002, colsample_bytree=0.9600000000000002 \n",
      "[CV]  n_estimators=7, max_depth=5, learning_rate=0.15000000000000002, colsample_bytree=0.9600000000000002, total=   0.5s\n",
      "[CV] n_estimators=7, max_depth=5, learning_rate=0.15000000000000002, colsample_bytree=0.9600000000000002 \n",
      "[CV]  n_estimators=7, max_depth=5, learning_rate=0.15000000000000002, colsample_bytree=0.9600000000000002, total=   0.5s\n",
      "[CV] n_estimators=7, max_depth=5, learning_rate=0.15000000000000002, colsample_bytree=0.9600000000000002 \n",
      "[CV]  n_estimators=7, max_depth=5, learning_rate=0.15000000000000002, colsample_bytree=0.9600000000000002, total=   0.8s\n",
      "[CV] n_estimators=7, max_depth=5, learning_rate=0.15000000000000002, colsample_bytree=0.9600000000000002 \n",
      "[CV]  n_estimators=7, max_depth=5, learning_rate=0.15000000000000002, colsample_bytree=0.9600000000000002, total=   0.8s\n",
      "[CV] n_estimators=7, max_depth=5, learning_rate=0.15000000000000002, colsample_bytree=0.9600000000000002 \n",
      "[CV]  n_estimators=7, max_depth=5, learning_rate=0.15000000000000002, colsample_bytree=0.9600000000000002, total=   1.4s\n",
      "[CV] n_estimators=7, max_depth=5, learning_rate=0.15000000000000002, colsample_bytree=0.9600000000000002 \n",
      "[CV]  n_estimators=7, max_depth=5, learning_rate=0.15000000000000002, colsample_bytree=0.9600000000000002, total=   0.9s\n",
      "[CV] n_estimators=7, max_depth=5, learning_rate=0.15000000000000002, colsample_bytree=0.9600000000000002 \n"
     ]
    },
    {
     "name": "stdout",
     "output_type": "stream",
     "text": [
      "[CV]  n_estimators=7, max_depth=5, learning_rate=0.15000000000000002, colsample_bytree=0.9600000000000002, total=   0.8s\n",
      "[CV] n_estimators=7, max_depth=5, learning_rate=0.15000000000000002, colsample_bytree=0.9600000000000002 \n",
      "[CV]  n_estimators=7, max_depth=5, learning_rate=0.15000000000000002, colsample_bytree=0.9600000000000002, total=   1.2s\n",
      "[CV] n_estimators=7, max_depth=5, learning_rate=0.15000000000000002, colsample_bytree=0.9600000000000002 \n",
      "[CV]  n_estimators=7, max_depth=5, learning_rate=0.15000000000000002, colsample_bytree=0.9600000000000002, total=   0.7s\n",
      "[CV] n_estimators=7, max_depth=5, learning_rate=0.15000000000000002, colsample_bytree=0.9600000000000002 \n",
      "[CV]  n_estimators=7, max_depth=5, learning_rate=0.15000000000000002, colsample_bytree=0.9600000000000002, total=   0.7s\n",
      "[CV] n_estimators=7, max_depth=5, learning_rate=0.15000000000000002, colsample_bytree=0.9600000000000002 \n",
      "[CV]  n_estimators=7, max_depth=5, learning_rate=0.15000000000000002, colsample_bytree=0.9600000000000002, total=   0.9s\n",
      "[CV] n_estimators=7, max_depth=5, learning_rate=0.15000000000000002, colsample_bytree=0.9600000000000002 \n",
      "[CV]  n_estimators=7, max_depth=5, learning_rate=0.15000000000000002, colsample_bytree=0.9600000000000002, total=   0.8s\n",
      "[CV] n_estimators=7, max_depth=5, learning_rate=0.15000000000000002, colsample_bytree=0.9600000000000002 \n",
      "[CV]  n_estimators=7, max_depth=5, learning_rate=0.15000000000000002, colsample_bytree=0.9600000000000002, total=   0.7s\n",
      "[CV] n_estimators=7, max_depth=5, learning_rate=0.15000000000000002, colsample_bytree=0.9600000000000002 \n",
      "[CV]  n_estimators=7, max_depth=5, learning_rate=0.15000000000000002, colsample_bytree=0.9600000000000002, total=   0.9s\n",
      "[CV] n_estimators=7, max_depth=5, learning_rate=0.15000000000000002, colsample_bytree=0.9600000000000002 \n",
      "[CV]  n_estimators=7, max_depth=5, learning_rate=0.15000000000000002, colsample_bytree=0.9600000000000002, total=   1.4s\n",
      "[CV] n_estimators=7, max_depth=5, learning_rate=0.15000000000000002, colsample_bytree=0.9600000000000002 \n",
      "[CV]  n_estimators=7, max_depth=5, learning_rate=0.15000000000000002, colsample_bytree=0.9600000000000002, total=   1.0s\n",
      "[CV] n_estimators=7, max_depth=5, learning_rate=0.15000000000000002, colsample_bytree=0.9600000000000002 \n",
      "[CV]  n_estimators=7, max_depth=5, learning_rate=0.15000000000000002, colsample_bytree=0.9600000000000002, total=   0.5s\n",
      "[CV] n_estimators=7, max_depth=5, learning_rate=0.15000000000000002, colsample_bytree=0.9600000000000002 \n",
      "[CV]  n_estimators=7, max_depth=5, learning_rate=0.15000000000000002, colsample_bytree=0.9600000000000002, total=   0.5s\n",
      "[CV] n_estimators=7, max_depth=5, learning_rate=0.15000000000000002, colsample_bytree=0.9600000000000002 \n",
      "[CV]  n_estimators=7, max_depth=5, learning_rate=0.15000000000000002, colsample_bytree=0.9600000000000002, total=   0.5s\n",
      "[CV] n_estimators=7, max_depth=5, learning_rate=0.15000000000000002, colsample_bytree=0.9600000000000002 \n",
      "[CV]  n_estimators=7, max_depth=5, learning_rate=0.15000000000000002, colsample_bytree=0.9600000000000002, total=   0.5s\n",
      "[CV] n_estimators=7, max_depth=5, learning_rate=0.15000000000000002, colsample_bytree=0.9600000000000002 \n",
      "[CV]  n_estimators=7, max_depth=5, learning_rate=0.15000000000000002, colsample_bytree=0.9600000000000002, total=   0.6s\n",
      "[CV] n_estimators=7, max_depth=5, learning_rate=0.15000000000000002, colsample_bytree=0.9600000000000002 \n",
      "[CV]  n_estimators=7, max_depth=5, learning_rate=0.15000000000000002, colsample_bytree=0.9600000000000002, total=   0.5s\n",
      "[CV] n_estimators=7, max_depth=5, learning_rate=0.15000000000000002, colsample_bytree=0.9600000000000002 \n",
      "[CV]  n_estimators=7, max_depth=5, learning_rate=0.15000000000000002, colsample_bytree=0.9600000000000002, total=   0.6s\n",
      "[CV] n_estimators=2, max_depth=4, learning_rate=0.5000000000000002, colsample_bytree=0.9600000000000002 \n",
      "[CV]  n_estimators=2, max_depth=4, learning_rate=0.5000000000000002, colsample_bytree=0.9600000000000002, total=   0.1s\n",
      "[CV] n_estimators=2, max_depth=4, learning_rate=0.5000000000000002, colsample_bytree=0.9600000000000002 \n",
      "[CV]  n_estimators=2, max_depth=4, learning_rate=0.5000000000000002, colsample_bytree=0.9600000000000002, total=   0.1s\n",
      "[CV] n_estimators=2, max_depth=4, learning_rate=0.5000000000000002, colsample_bytree=0.9600000000000002 \n",
      "[CV]  n_estimators=2, max_depth=4, learning_rate=0.5000000000000002, colsample_bytree=0.9600000000000002, total=   0.2s\n",
      "[CV] n_estimators=2, max_depth=4, learning_rate=0.5000000000000002, colsample_bytree=0.9600000000000002 \n",
      "[CV]  n_estimators=2, max_depth=4, learning_rate=0.5000000000000002, colsample_bytree=0.9600000000000002, total=   0.1s\n",
      "[CV] n_estimators=2, max_depth=4, learning_rate=0.5000000000000002, colsample_bytree=0.9600000000000002 \n",
      "[CV]  n_estimators=2, max_depth=4, learning_rate=0.5000000000000002, colsample_bytree=0.9600000000000002, total=   0.1s\n",
      "[CV] n_estimators=2, max_depth=4, learning_rate=0.5000000000000002, colsample_bytree=0.9600000000000002 \n",
      "[CV]  n_estimators=2, max_depth=4, learning_rate=0.5000000000000002, colsample_bytree=0.9600000000000002, total=   0.1s\n",
      "[CV] n_estimators=2, max_depth=4, learning_rate=0.5000000000000002, colsample_bytree=0.9600000000000002 \n",
      "[CV]  n_estimators=2, max_depth=4, learning_rate=0.5000000000000002, colsample_bytree=0.9600000000000002, total=   0.1s\n",
      "[CV] n_estimators=2, max_depth=4, learning_rate=0.5000000000000002, colsample_bytree=0.9600000000000002 \n",
      "[CV]  n_estimators=2, max_depth=4, learning_rate=0.5000000000000002, colsample_bytree=0.9600000000000002, total=   0.1s\n",
      "[CV] n_estimators=2, max_depth=4, learning_rate=0.5000000000000002, colsample_bytree=0.9600000000000002 \n",
      "[CV]  n_estimators=2, max_depth=4, learning_rate=0.5000000000000002, colsample_bytree=0.9600000000000002, total=   0.1s\n",
      "[CV] n_estimators=2, max_depth=4, learning_rate=0.5000000000000002, colsample_bytree=0.9600000000000002 \n",
      "[CV]  n_estimators=2, max_depth=4, learning_rate=0.5000000000000002, colsample_bytree=0.9600000000000002, total=   0.2s\n",
      "[CV] n_estimators=2, max_depth=4, learning_rate=0.5000000000000002, colsample_bytree=0.9600000000000002 \n",
      "[CV]  n_estimators=2, max_depth=4, learning_rate=0.5000000000000002, colsample_bytree=0.9600000000000002, total=   0.2s\n",
      "[CV] n_estimators=2, max_depth=4, learning_rate=0.5000000000000002, colsample_bytree=0.9600000000000002 \n",
      "[CV]  n_estimators=2, max_depth=4, learning_rate=0.5000000000000002, colsample_bytree=0.9600000000000002, total=   0.2s\n",
      "[CV] n_estimators=2, max_depth=4, learning_rate=0.5000000000000002, colsample_bytree=0.9600000000000002 \n",
      "[CV]  n_estimators=2, max_depth=4, learning_rate=0.5000000000000002, colsample_bytree=0.9600000000000002, total=   0.1s\n",
      "[CV] n_estimators=2, max_depth=4, learning_rate=0.5000000000000002, colsample_bytree=0.9600000000000002 \n",
      "[CV]  n_estimators=2, max_depth=4, learning_rate=0.5000000000000002, colsample_bytree=0.9600000000000002, total=   0.1s\n",
      "[CV] n_estimators=2, max_depth=4, learning_rate=0.5000000000000002, colsample_bytree=0.9600000000000002 \n",
      "[CV]  n_estimators=2, max_depth=4, learning_rate=0.5000000000000002, colsample_bytree=0.9600000000000002, total=   0.1s\n",
      "[CV] n_estimators=2, max_depth=4, learning_rate=0.5000000000000002, colsample_bytree=0.9600000000000002 \n",
      "[CV]  n_estimators=2, max_depth=4, learning_rate=0.5000000000000002, colsample_bytree=0.9600000000000002, total=   0.1s\n",
      "[CV] n_estimators=2, max_depth=4, learning_rate=0.5000000000000002, colsample_bytree=0.9600000000000002 \n",
      "[CV]  n_estimators=2, max_depth=4, learning_rate=0.5000000000000002, colsample_bytree=0.9600000000000002, total=   0.1s\n",
      "[CV] n_estimators=2, max_depth=4, learning_rate=0.5000000000000002, colsample_bytree=0.9600000000000002 \n",
      "[CV]  n_estimators=2, max_depth=4, learning_rate=0.5000000000000002, colsample_bytree=0.9600000000000002, total=   0.1s\n",
      "[CV] n_estimators=2, max_depth=4, learning_rate=0.5000000000000002, colsample_bytree=0.9600000000000002 \n",
      "[CV]  n_estimators=2, max_depth=4, learning_rate=0.5000000000000002, colsample_bytree=0.9600000000000002, total=   0.1s\n",
      "[CV] n_estimators=2, max_depth=4, learning_rate=0.5000000000000002, colsample_bytree=0.9600000000000002 \n",
      "[CV]  n_estimators=2, max_depth=4, learning_rate=0.5000000000000002, colsample_bytree=0.9600000000000002, total=   0.1s\n",
      "[CV] n_estimators=2, max_depth=4, learning_rate=0.5000000000000002, colsample_bytree=0.9600000000000002 \n"
     ]
    },
    {
     "name": "stdout",
     "output_type": "stream",
     "text": [
      "[CV]  n_estimators=2, max_depth=4, learning_rate=0.5000000000000002, colsample_bytree=0.9600000000000002, total=   0.1s\n",
      "[CV] n_estimators=2, max_depth=4, learning_rate=0.5000000000000002, colsample_bytree=0.9600000000000002 \n",
      "[CV]  n_estimators=2, max_depth=4, learning_rate=0.5000000000000002, colsample_bytree=0.9600000000000002, total=   0.1s\n",
      "[CV] n_estimators=2, max_depth=4, learning_rate=0.5000000000000002, colsample_bytree=0.9600000000000002 \n",
      "[CV]  n_estimators=2, max_depth=4, learning_rate=0.5000000000000002, colsample_bytree=0.9600000000000002, total=   0.1s\n",
      "[CV] n_estimators=2, max_depth=4, learning_rate=0.5000000000000002, colsample_bytree=0.9600000000000002 \n",
      "[CV]  n_estimators=2, max_depth=4, learning_rate=0.5000000000000002, colsample_bytree=0.9600000000000002, total=   0.1s\n",
      "[CV] n_estimators=2, max_depth=4, learning_rate=0.5000000000000002, colsample_bytree=0.9600000000000002 \n",
      "[CV]  n_estimators=2, max_depth=4, learning_rate=0.5000000000000002, colsample_bytree=0.9600000000000002, total=   0.1s\n",
      "[CV] n_estimators=2, max_depth=4, learning_rate=0.5000000000000002, colsample_bytree=0.9600000000000002 \n",
      "[CV]  n_estimators=2, max_depth=4, learning_rate=0.5000000000000002, colsample_bytree=0.9600000000000002, total=   0.1s\n",
      "[CV] n_estimators=2, max_depth=4, learning_rate=0.5000000000000002, colsample_bytree=0.9600000000000002 \n",
      "[CV]  n_estimators=2, max_depth=4, learning_rate=0.5000000000000002, colsample_bytree=0.9600000000000002, total=   0.1s\n",
      "[CV] n_estimators=2, max_depth=4, learning_rate=0.5000000000000002, colsample_bytree=0.9600000000000002 \n",
      "[CV]  n_estimators=2, max_depth=4, learning_rate=0.5000000000000002, colsample_bytree=0.9600000000000002, total=   0.1s\n",
      "[CV] n_estimators=2, max_depth=4, learning_rate=0.5000000000000002, colsample_bytree=0.9600000000000002 \n",
      "[CV]  n_estimators=2, max_depth=4, learning_rate=0.5000000000000002, colsample_bytree=0.9600000000000002, total=   0.1s\n",
      "[CV] n_estimators=2, max_depth=4, learning_rate=0.5000000000000002, colsample_bytree=0.9600000000000002 \n",
      "[CV]  n_estimators=2, max_depth=4, learning_rate=0.5000000000000002, colsample_bytree=0.9600000000000002, total=   0.1s\n",
      "[CV] n_estimators=2, max_depth=4, learning_rate=0.5000000000000002, colsample_bytree=0.9600000000000002 \n",
      "[CV]  n_estimators=2, max_depth=4, learning_rate=0.5000000000000002, colsample_bytree=0.9600000000000002, total=   0.1s\n",
      "[CV] n_estimators=2, max_depth=4, learning_rate=0.5000000000000002, colsample_bytree=0.9600000000000002 \n",
      "[CV]  n_estimators=2, max_depth=4, learning_rate=0.5000000000000002, colsample_bytree=0.9600000000000002, total=   0.2s\n",
      "[CV] n_estimators=2, max_depth=4, learning_rate=0.5000000000000002, colsample_bytree=0.9600000000000002 \n",
      "[CV]  n_estimators=2, max_depth=4, learning_rate=0.5000000000000002, colsample_bytree=0.9600000000000002, total=   0.1s\n",
      "[CV] n_estimators=2, max_depth=4, learning_rate=0.5000000000000002, colsample_bytree=0.9600000000000002 \n",
      "[CV]  n_estimators=2, max_depth=4, learning_rate=0.5000000000000002, colsample_bytree=0.9600000000000002, total=   0.1s\n",
      "[CV] n_estimators=2, max_depth=4, learning_rate=0.5000000000000002, colsample_bytree=0.9600000000000002 \n",
      "[CV]  n_estimators=2, max_depth=4, learning_rate=0.5000000000000002, colsample_bytree=0.9600000000000002, total=   0.1s\n"
     ]
    },
    {
     "name": "stderr",
     "output_type": "stream",
     "text": [
      "[Parallel(n_jobs=1)]: Done 175 out of 175 | elapsed:  2.5min finished\n",
      "C:\\Users\\Asus\\Anaconda3\\lib\\site-packages\\sklearn\\model_selection\\_search.py:841: DeprecationWarning: The default of the `iid` parameter will change from True to False in version 0.22 and will be removed in 0.24. This will change numeric results when test-set sizes are unequal.\n",
      "  DeprecationWarning)\n"
     ]
    },
    {
     "name": "stdout",
     "output_type": "stream",
     "text": [
      "Wall time: 2min 30s\n"
     ]
    }
   ],
   "source": [
    "%%time\n",
    "# Fit the estimator\n",
    "baa=randomized_roc_auc.fit(X, y)"
   ]
  },
  {
   "cell_type": "code",
   "execution_count": 29,
   "metadata": {},
   "outputs": [
    {
     "data": {
      "text/plain": [
       "{'n_estimators': 10,\n",
       " 'max_depth': 11,\n",
       " 'learning_rate': 0.3500000000000001,\n",
       " 'colsample_bytree': 0.76}"
      ]
     },
     "execution_count": 29,
     "metadata": {},
     "output_type": "execute_result"
    }
   ],
   "source": [
    "baa.best_params_"
   ]
  },
  {
   "cell_type": "code",
   "execution_count": 30,
   "metadata": {},
   "outputs": [
    {
     "data": {
      "text/plain": [
       "XGBClassifier(base_score=0.5, booster='gbtree', colsample_bylevel=1,\n",
       "       colsample_bynode=1, colsample_bytree=0.76, gamma=0,\n",
       "       learning_rate=0.3500000000000001, max_delta_step=0, max_depth=11,\n",
       "       min_child_weight=1, missing=None, n_estimators=10, n_gpus=0,\n",
       "       n_jobs=1, nthread=None, num_class=3, objective='multi:softprob',\n",
       "       random_state=0, reg_alpha=0, reg_lambda=1, scale_pos_weight=1,\n",
       "       seed=None, silent=None, subsample=1, verbosity=1)"
      ]
     },
     "execution_count": 30,
     "metadata": {},
     "output_type": "execute_result"
    }
   ],
   "source": [
    "baa.best_estimator_"
   ]
  },
  {
   "cell_type": "markdown",
   "metadata": {},
   "source": [
    "## Predict testdf by using XGBoost"
   ]
  },
  {
   "cell_type": "code",
   "execution_count": 2,
   "metadata": {},
   "outputs": [
    {
     "ename": "NameError",
     "evalue": "name 'baa' is not defined",
     "output_type": "error",
     "traceback": [
      "\u001b[1;31m---------------------------------------------------------------------------\u001b[0m",
      "\u001b[1;31mNameError\u001b[0m                                 Traceback (most recent call last)",
      "\u001b[1;32m<ipython-input-2-f20ab1cfc013>\u001b[0m in \u001b[0;36m<module>\u001b[1;34m\u001b[0m\n\u001b[1;32m----> 1\u001b[1;33m \u001b[0mpred\u001b[0m \u001b[1;33m=\u001b[0m \u001b[0mbaa\u001b[0m\u001b[1;33m.\u001b[0m\u001b[0mbest_estimator_\u001b[0m\u001b[1;33m.\u001b[0m\u001b[0mpredict\u001b[0m\u001b[1;33m(\u001b[0m\u001b[0mtestdf\u001b[0m\u001b[1;33m)\u001b[0m\u001b[1;33m\u001b[0m\u001b[1;33m\u001b[0m\u001b[0m\n\u001b[0m",
      "\u001b[1;31mNameError\u001b[0m: name 'baa' is not defined"
     ]
    }
   ],
   "source": [
    "pred = baa.best_estimator_.predict(testdf)\n"
   ]
  },
  {
   "cell_type": "code",
   "execution_count": 32,
   "metadata": {},
   "outputs": [],
   "source": [
    "pot[\"prediction\"] = pred"
   ]
  },
  {
   "cell_type": "code",
   "execution_count": 33,
   "metadata": {},
   "outputs": [],
   "source": [
    "label_rev = {val:key for key, val in label_replace.items()}\n",
    "pot[\"prediction\"] = pot[\"prediction\"].replace(label_rev)\n",
    "pot.to_csv(\"submit_3a_xgb_01.csv\", index = False)"
   ]
  },
  {
   "cell_type": "markdown",
   "metadata": {},
   "source": [
    "## Check confusion matrix (train)"
   ]
  },
  {
   "cell_type": "code",
   "execution_count": 34,
   "metadata": {},
   "outputs": [
    {
     "name": "stdout",
     "output_type": "stream",
     "text": [
      "[[3723    9    0]\n",
      " [ 108 1957    1]\n",
      " [  14    9  155]]\n"
     ]
    }
   ],
   "source": [
    "from sklearn.metrics import confusion_matrix\n",
    "trpred = baa.best_estimator_.predict(X)\n",
    "cm = confusion_matrix(y_true=y, y_pred = trpred)\n",
    "print(cm)"
   ]
  },
  {
   "cell_type": "markdown",
   "metadata": {},
   "source": [
    "## Check total profit (train)"
   ]
  },
  {
   "cell_type": "code",
   "execution_count": 35,
   "metadata": {},
   "outputs": [],
   "source": [
    "prof_matrix = np.array([[70,-40,-10],[-110,330,-120],[-10,-30,20]])"
   ]
  },
  {
   "cell_type": "code",
   "execution_count": 36,
   "metadata": {},
   "outputs": [
    {
     "data": {
      "text/plain": [
       "896750"
      ]
     },
     "execution_count": 36,
     "metadata": {},
     "output_type": "execute_result"
    }
   ],
   "source": [
    "np.sum(prof_matrix*cm)"
   ]
  },
  {
   "cell_type": "markdown",
   "metadata": {},
   "source": [
    "## Check predicted classes distribution"
   ]
  },
  {
   "cell_type": "code",
   "execution_count": 37,
   "metadata": {},
   "outputs": [
    {
     "data": {
      "text/plain": [
       "0    1733\n",
       "1     781\n",
       "2      47\n",
       "Name: 0, dtype: int64"
      ]
     },
     "execution_count": 37,
     "metadata": {},
     "output_type": "execute_result"
    }
   ],
   "source": [
    "pd.DataFrame(pred).iloc[:,0].value_counts() #predicted"
   ]
  },
  {
   "cell_type": "code",
   "execution_count": 38,
   "metadata": {},
   "outputs": [
    {
     "data": {
      "text/plain": [
       "0    3732\n",
       "1    2066\n",
       "2     178\n",
       "Name: campaign_outcome, dtype: int64"
      ]
     },
     "execution_count": 38,
     "metadata": {},
     "output_type": "execute_result"
    }
   ],
   "source": [
    "pd.DataFrame(y).iloc[:,0].value_counts() #actual"
   ]
  },
  {
   "cell_type": "markdown",
   "metadata": {},
   "source": [
    "# Attempt on using LGBM Model"
   ]
  },
  {
   "cell_type": "code",
   "execution_count": 43,
   "metadata": {},
   "outputs": [
    {
     "name": "stdout",
     "output_type": "stream",
     "text": [
      "=======\n",
      "Training until validation scores don't improve for 400 rounds.\n",
      "[200]\tvalid_0's multi_logloss: 0.784303\n",
      "[400]\tvalid_0's multi_logloss: 0.624715\n",
      "[600]\tvalid_0's multi_logloss: 0.538195\n",
      "[800]\tvalid_0's multi_logloss: 0.488763\n",
      "[1000]\tvalid_0's multi_logloss: 0.459387\n",
      "[1200]\tvalid_0's multi_logloss: 0.439616\n",
      "[1400]\tvalid_0's multi_logloss: 0.421921\n",
      "[1600]\tvalid_0's multi_logloss: 0.408047\n",
      "[1800]\tvalid_0's multi_logloss: 0.398734\n",
      "[2000]\tvalid_0's multi_logloss: 0.392949\n",
      "[2200]\tvalid_0's multi_logloss: 0.388066\n",
      "[2400]\tvalid_0's multi_logloss: 0.384078\n",
      "[2600]\tvalid_0's multi_logloss: 0.38107\n",
      "[2800]\tvalid_0's multi_logloss: 0.379181\n",
      "[3000]\tvalid_0's multi_logloss: 0.3776\n",
      "[3200]\tvalid_0's multi_logloss: 0.375844\n",
      "[3400]\tvalid_0's multi_logloss: 0.374739\n",
      "[3600]\tvalid_0's multi_logloss: 0.374179\n",
      "[3800]\tvalid_0's multi_logloss: 0.373246\n",
      "[4000]\tvalid_0's multi_logloss: 0.372394\n",
      "[4200]\tvalid_0's multi_logloss: 0.371325\n",
      "[4400]\tvalid_0's multi_logloss: 0.370454\n",
      "Did not meet early stopping. Best iteration is:\n",
      "[4436]\tvalid_0's multi_logloss: 0.370307\n",
      "=======\n",
      "Training until validation scores don't improve for 400 rounds.\n",
      "[200]\tvalid_0's multi_logloss: 0.791308\n",
      "[400]\tvalid_0's multi_logloss: 0.632721\n",
      "[600]\tvalid_0's multi_logloss: 0.54342\n",
      "[800]\tvalid_0's multi_logloss: 0.493156\n",
      "[1000]\tvalid_0's multi_logloss: 0.462584\n",
      "[1200]\tvalid_0's multi_logloss: 0.44066\n",
      "[1400]\tvalid_0's multi_logloss: 0.424466\n",
      "[1600]\tvalid_0's multi_logloss: 0.411342\n",
      "[1800]\tvalid_0's multi_logloss: 0.401546\n",
      "[2000]\tvalid_0's multi_logloss: 0.394268\n",
      "[2200]\tvalid_0's multi_logloss: 0.388571\n",
      "[2400]\tvalid_0's multi_logloss: 0.384239\n",
      "[2600]\tvalid_0's multi_logloss: 0.380944\n",
      "[2800]\tvalid_0's multi_logloss: 0.377598\n",
      "[3000]\tvalid_0's multi_logloss: 0.375034\n",
      "[3200]\tvalid_0's multi_logloss: 0.372907\n",
      "[3400]\tvalid_0's multi_logloss: 0.371165\n",
      "[3600]\tvalid_0's multi_logloss: 0.369678\n",
      "[3800]\tvalid_0's multi_logloss: 0.368471\n",
      "[4000]\tvalid_0's multi_logloss: 0.367475\n",
      "[4200]\tvalid_0's multi_logloss: 0.366687\n",
      "[4400]\tvalid_0's multi_logloss: 0.365964\n",
      "Did not meet early stopping. Best iteration is:\n",
      "[4500]\tvalid_0's multi_logloss: 0.365804\n",
      "=======\n",
      "Training until validation scores don't improve for 400 rounds.\n",
      "[200]\tvalid_0's multi_logloss: 0.783458\n",
      "[400]\tvalid_0's multi_logloss: 0.62172\n",
      "[600]\tvalid_0's multi_logloss: 0.530578\n",
      "[800]\tvalid_0's multi_logloss: 0.47722\n",
      "[1000]\tvalid_0's multi_logloss: 0.44284\n",
      "[1200]\tvalid_0's multi_logloss: 0.420285\n",
      "[1400]\tvalid_0's multi_logloss: 0.405583\n",
      "[1600]\tvalid_0's multi_logloss: 0.393868\n",
      "[1800]\tvalid_0's multi_logloss: 0.384222\n",
      "[2000]\tvalid_0's multi_logloss: 0.376943\n",
      "[2200]\tvalid_0's multi_logloss: 0.37156\n",
      "[2400]\tvalid_0's multi_logloss: 0.366509\n",
      "[2600]\tvalid_0's multi_logloss: 0.362585\n",
      "[2800]\tvalid_0's multi_logloss: 0.360306\n",
      "[3000]\tvalid_0's multi_logloss: 0.357816\n",
      "[3200]\tvalid_0's multi_logloss: 0.354764\n",
      "[3400]\tvalid_0's multi_logloss: 0.351594\n",
      "[3600]\tvalid_0's multi_logloss: 0.348827\n",
      "[3800]\tvalid_0's multi_logloss: 0.347694\n",
      "[4000]\tvalid_0's multi_logloss: 0.346631\n",
      "[4200]\tvalid_0's multi_logloss: 0.345593\n",
      "[4400]\tvalid_0's multi_logloss: 0.344797\n",
      "Did not meet early stopping. Best iteration is:\n",
      "[4499]\tvalid_0's multi_logloss: 0.34459\n",
      "=======\n",
      "Training until validation scores don't improve for 400 rounds.\n",
      "[200]\tvalid_0's multi_logloss: 0.791395\n",
      "[400]\tvalid_0's multi_logloss: 0.638271\n",
      "[600]\tvalid_0's multi_logloss: 0.555447\n",
      "[800]\tvalid_0's multi_logloss: 0.506924\n",
      "[1000]\tvalid_0's multi_logloss: 0.478119\n",
      "[1200]\tvalid_0's multi_logloss: 0.456841\n",
      "[1400]\tvalid_0's multi_logloss: 0.440415\n",
      "[1600]\tvalid_0's multi_logloss: 0.427966\n",
      "[1800]\tvalid_0's multi_logloss: 0.41948\n",
      "[2000]\tvalid_0's multi_logloss: 0.410931\n",
      "[2200]\tvalid_0's multi_logloss: 0.404807\n",
      "[2400]\tvalid_0's multi_logloss: 0.399274\n",
      "[2600]\tvalid_0's multi_logloss: 0.395013\n",
      "[2800]\tvalid_0's multi_logloss: 0.392056\n",
      "[3000]\tvalid_0's multi_logloss: 0.39024\n",
      "[3200]\tvalid_0's multi_logloss: 0.387959\n",
      "[3400]\tvalid_0's multi_logloss: 0.386358\n",
      "[3600]\tvalid_0's multi_logloss: 0.384719\n",
      "[3800]\tvalid_0's multi_logloss: 0.383578\n",
      "[4000]\tvalid_0's multi_logloss: 0.382892\n",
      "[4200]\tvalid_0's multi_logloss: 0.382293\n",
      "[4400]\tvalid_0's multi_logloss: 0.382057\n",
      "Did not meet early stopping. Best iteration is:\n",
      "[4386]\tvalid_0's multi_logloss: 0.382027\n",
      "=======\n",
      "Training until validation scores don't improve for 400 rounds.\n",
      "[200]\tvalid_0's multi_logloss: 0.782923\n",
      "[400]\tvalid_0's multi_logloss: 0.618263\n",
      "[600]\tvalid_0's multi_logloss: 0.527406\n",
      "[800]\tvalid_0's multi_logloss: 0.476434\n",
      "[1000]\tvalid_0's multi_logloss: 0.446635\n",
      "[1200]\tvalid_0's multi_logloss: 0.426476\n",
      "[1400]\tvalid_0's multi_logloss: 0.41355\n",
      "[1600]\tvalid_0's multi_logloss: 0.404179\n",
      "[1800]\tvalid_0's multi_logloss: 0.397184\n",
      "[2000]\tvalid_0's multi_logloss: 0.391666\n",
      "[2200]\tvalid_0's multi_logloss: 0.388426\n",
      "[2400]\tvalid_0's multi_logloss: 0.385419\n",
      "[2600]\tvalid_0's multi_logloss: 0.382878\n",
      "[2800]\tvalid_0's multi_logloss: 0.381062\n",
      "[3000]\tvalid_0's multi_logloss: 0.379271\n",
      "[3200]\tvalid_0's multi_logloss: 0.377604\n",
      "[3400]\tvalid_0's multi_logloss: 0.376442\n",
      "[3600]\tvalid_0's multi_logloss: 0.376226\n",
      "[3800]\tvalid_0's multi_logloss: 0.376339\n",
      "Early stopping, best iteration is:\n",
      "[3513]\tvalid_0's multi_logloss: 0.376169\n",
      "=======\n",
      "Training until validation scores don't improve for 400 rounds.\n",
      "[200]\tvalid_0's multi_logloss: 0.776289\n",
      "[400]\tvalid_0's multi_logloss: 0.608111\n",
      "[600]\tvalid_0's multi_logloss: 0.514754\n",
      "[800]\tvalid_0's multi_logloss: 0.45742\n",
      "[1000]\tvalid_0's multi_logloss: 0.420185\n",
      "[1200]\tvalid_0's multi_logloss: 0.394488\n",
      "[1400]\tvalid_0's multi_logloss: 0.377462\n",
      "[1600]\tvalid_0's multi_logloss: 0.365312\n",
      "[1800]\tvalid_0's multi_logloss: 0.356505\n",
      "[2000]\tvalid_0's multi_logloss: 0.348614\n",
      "[2200]\tvalid_0's multi_logloss: 0.341718\n",
      "[2400]\tvalid_0's multi_logloss: 0.336465\n",
      "[2600]\tvalid_0's multi_logloss: 0.332212\n",
      "[2800]\tvalid_0's multi_logloss: 0.328763\n",
      "[3000]\tvalid_0's multi_logloss: 0.325889\n",
      "[3200]\tvalid_0's multi_logloss: 0.323251\n",
      "[3400]\tvalid_0's multi_logloss: 0.321036\n",
      "[3600]\tvalid_0's multi_logloss: 0.319611\n",
      "[3800]\tvalid_0's multi_logloss: 0.318322\n",
      "[4000]\tvalid_0's multi_logloss: 0.317445\n",
      "[4200]\tvalid_0's multi_logloss: 0.316623\n",
      "[4400]\tvalid_0's multi_logloss: 0.315539\n",
      "Did not meet early stopping. Best iteration is:\n",
      "[4499]\tvalid_0's multi_logloss: 0.314966\n",
      "=======\n",
      "Training until validation scores don't improve for 400 rounds.\n",
      "[200]\tvalid_0's multi_logloss: 0.799487\n",
      "[400]\tvalid_0's multi_logloss: 0.64794\n",
      "[600]\tvalid_0's multi_logloss: 0.565389\n",
      "[800]\tvalid_0's multi_logloss: 0.517541\n",
      "[1000]\tvalid_0's multi_logloss: 0.489507\n",
      "[1200]\tvalid_0's multi_logloss: 0.468862\n",
      "[1400]\tvalid_0's multi_logloss: 0.453374\n",
      "[1600]\tvalid_0's multi_logloss: 0.441469\n",
      "[1800]\tvalid_0's multi_logloss: 0.432778\n",
      "[2000]\tvalid_0's multi_logloss: 0.425085\n",
      "[2200]\tvalid_0's multi_logloss: 0.418434\n",
      "[2400]\tvalid_0's multi_logloss: 0.413344\n",
      "[2600]\tvalid_0's multi_logloss: 0.409496\n",
      "[2800]\tvalid_0's multi_logloss: 0.40662\n",
      "[3000]\tvalid_0's multi_logloss: 0.40447\n",
      "[3200]\tvalid_0's multi_logloss: 0.402514\n",
      "[3400]\tvalid_0's multi_logloss: 0.400651\n",
      "[3600]\tvalid_0's multi_logloss: 0.399095\n",
      "[3800]\tvalid_0's multi_logloss: 0.397884\n",
      "[4000]\tvalid_0's multi_logloss: 0.397271\n",
      "[4200]\tvalid_0's multi_logloss: 0.396827\n",
      "[4400]\tvalid_0's multi_logloss: 0.396787\n",
      "Did not meet early stopping. Best iteration is:\n",
      "[4500]\tvalid_0's multi_logloss: 0.396418\n",
      "Wall time: 5min 33s\n"
     ]
    }
   ],
   "source": [
    "%%time\n",
    "\n",
    "from sklearn.model_selection import StratifiedKFold\n",
    "import lightgbm as lgb\n",
    "\n",
    "# Do K-Fold Stratified Cross Validation (K = 7)\n",
    "kfold = 7\n",
    "kf = StratifiedKFold(n_splits=kfold, shuffle=True, random_state = 123)\n",
    "\n",
    "clf = lgb.LGBMClassifier(max_depth=12, learning_rate=0.0025, objective='multiclass',\n",
    "                             random_state=88, silent=True, metric='None', \n",
    "                             n_jobs=4, n_estimators=4500, class_weight='balanced',\n",
    "                             colsample_bytree =  0.91, min_child_samples = 80, num_leaves = 14, subsample = 0.96)\n",
    "\n",
    "val_predictions_logloss = []\n",
    "for train_index, val_index in kf.split(X, y):\n",
    "    print(\"=======\")\n",
    "    X_train, X_val = X.iloc[train_index], X.iloc[val_index]\n",
    "    y_train, y_val = y.iloc[train_index], y.iloc[val_index]\n",
    "    clf.fit(X_train, y_train, eval_set=[(X_val, y_val)], eval_metric=\"logloss\",\n",
    "            early_stopping_rounds=400, verbose=200)\n",
    "    val_predictions_logloss.append(clf.predict(X_val))\n",
    "    \n",
    "test_predictions_logloss = clf.predict_proba(testdf)\n",
    "pred =test_predictions_logloss.argmax(axis = 1)\n"
   ]
  },
  {
   "cell_type": "code",
   "execution_count": 44,
   "metadata": {},
   "outputs": [
    {
     "name": "stdout",
     "output_type": "stream",
     "text": [
      "done_submit_3a_lgb_10.csv\n"
     ]
    }
   ],
   "source": [
    "pot[\"prediction\"] = pred\n",
    "label_rev = {val:key for key, val in label_replace.items()}\n",
    "pot[\"prediction\"] = pot[\"prediction\"].replace(label_rev)\n",
    "fname = \"submit_3a_lgb_10.csv\"\n",
    "pot.to_csv(fname, index = False)\n",
    "print(\"done_\" + fname)"
   ]
  },
  {
   "cell_type": "markdown",
   "metadata": {},
   "source": [
    "### Check predicted classes distribution"
   ]
  },
  {
   "cell_type": "code",
   "execution_count": 45,
   "metadata": {},
   "outputs": [
    {
     "data": {
      "text/plain": [
       "0    1632\n",
       "1     839\n",
       "2      90\n",
       "Name: 0, dtype: int64"
      ]
     },
     "execution_count": 45,
     "metadata": {},
     "output_type": "execute_result"
    }
   ],
   "source": [
    "pd.DataFrame(pred).iloc[:,0].value_counts() #predicted"
   ]
  },
  {
   "cell_type": "code",
   "execution_count": 46,
   "metadata": {},
   "outputs": [
    {
     "data": {
      "text/plain": [
       "0    3732\n",
       "1    2066\n",
       "2     178\n",
       "Name: campaign_outcome, dtype: int64"
      ]
     },
     "execution_count": 46,
     "metadata": {},
     "output_type": "execute_result"
    }
   ],
   "source": [
    "pd.DataFrame(y).iloc[:,0].value_counts() #actual"
   ]
  },
  {
   "cell_type": "code",
   "execution_count": null,
   "metadata": {},
   "outputs": [],
   "source": []
  }
 ],
 "metadata": {
  "kernelspec": {
   "display_name": "Python 3",
   "language": "python",
   "name": "python3"
  },
  "language_info": {
   "codemirror_mode": {
    "name": "ipython",
    "version": 3
   },
   "file_extension": ".py",
   "mimetype": "text/x-python",
   "name": "python",
   "nbconvert_exporter": "python",
   "pygments_lexer": "ipython3",
   "version": "3.7.4"
  }
 },
 "nbformat": 4,
 "nbformat_minor": 2
}
